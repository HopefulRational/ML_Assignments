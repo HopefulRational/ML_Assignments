{
 "cells": [
  {
   "cell_type": "code",
   "execution_count": 1,
   "metadata": {},
   "outputs": [],
   "source": [
    "# import time\n",
    "\n",
    "# start = time.time()\n",
    "# print(\"hello\")\n",
    "# end = time.time()\n",
    "# print(end - start)"
   ]
  },
  {
   "cell_type": "code",
   "execution_count": 2,
   "metadata": {},
   "outputs": [],
   "source": [
    "import pandas as pd\n",
    "import numpy as np\n",
    "from random import randint\n",
    "from tqdm import tqdm_notebook as tqdm\n",
    "from sklearn.metrics import normalized_mutual_info_score as nmi_score"
   ]
  },
  {
   "cell_type": "code",
   "execution_count": 3,
   "metadata": {},
   "outputs": [],
   "source": [
    "train = pd.read_csv(\"./mnist-in-csv/mnist_train.csv\")\n",
    "test = pd.read_csv(\"./mnist-in-csv/mnist_test.csv\")"
   ]
  },
  {
   "cell_type": "code",
   "execution_count": 4,
   "metadata": {},
   "outputs": [
    {
     "data": {
      "text/html": [
       "<div>\n",
       "<style scoped>\n",
       "    .dataframe tbody tr th:only-of-type {\n",
       "        vertical-align: middle;\n",
       "    }\n",
       "\n",
       "    .dataframe tbody tr th {\n",
       "        vertical-align: top;\n",
       "    }\n",
       "\n",
       "    .dataframe thead th {\n",
       "        text-align: right;\n",
       "    }\n",
       "</style>\n",
       "<table border=\"1\" class=\"dataframe\">\n",
       "  <thead>\n",
       "    <tr style=\"text-align: right;\">\n",
       "      <th></th>\n",
       "      <th>label</th>\n",
       "      <th>1x1</th>\n",
       "      <th>1x2</th>\n",
       "      <th>1x3</th>\n",
       "      <th>1x4</th>\n",
       "      <th>1x5</th>\n",
       "      <th>1x6</th>\n",
       "      <th>1x7</th>\n",
       "      <th>1x8</th>\n",
       "      <th>1x9</th>\n",
       "      <th>...</th>\n",
       "      <th>28x19</th>\n",
       "      <th>28x20</th>\n",
       "      <th>28x21</th>\n",
       "      <th>28x22</th>\n",
       "      <th>28x23</th>\n",
       "      <th>28x24</th>\n",
       "      <th>28x25</th>\n",
       "      <th>28x26</th>\n",
       "      <th>28x27</th>\n",
       "      <th>28x28</th>\n",
       "    </tr>\n",
       "  </thead>\n",
       "  <tbody>\n",
       "    <tr>\n",
       "      <th>0</th>\n",
       "      <td>5</td>\n",
       "      <td>0</td>\n",
       "      <td>0</td>\n",
       "      <td>0</td>\n",
       "      <td>0</td>\n",
       "      <td>0</td>\n",
       "      <td>0</td>\n",
       "      <td>0</td>\n",
       "      <td>0</td>\n",
       "      <td>0</td>\n",
       "      <td>...</td>\n",
       "      <td>0</td>\n",
       "      <td>0</td>\n",
       "      <td>0</td>\n",
       "      <td>0</td>\n",
       "      <td>0</td>\n",
       "      <td>0</td>\n",
       "      <td>0</td>\n",
       "      <td>0</td>\n",
       "      <td>0</td>\n",
       "      <td>0</td>\n",
       "    </tr>\n",
       "    <tr>\n",
       "      <th>1</th>\n",
       "      <td>0</td>\n",
       "      <td>0</td>\n",
       "      <td>0</td>\n",
       "      <td>0</td>\n",
       "      <td>0</td>\n",
       "      <td>0</td>\n",
       "      <td>0</td>\n",
       "      <td>0</td>\n",
       "      <td>0</td>\n",
       "      <td>0</td>\n",
       "      <td>...</td>\n",
       "      <td>0</td>\n",
       "      <td>0</td>\n",
       "      <td>0</td>\n",
       "      <td>0</td>\n",
       "      <td>0</td>\n",
       "      <td>0</td>\n",
       "      <td>0</td>\n",
       "      <td>0</td>\n",
       "      <td>0</td>\n",
       "      <td>0</td>\n",
       "    </tr>\n",
       "    <tr>\n",
       "      <th>2</th>\n",
       "      <td>4</td>\n",
       "      <td>0</td>\n",
       "      <td>0</td>\n",
       "      <td>0</td>\n",
       "      <td>0</td>\n",
       "      <td>0</td>\n",
       "      <td>0</td>\n",
       "      <td>0</td>\n",
       "      <td>0</td>\n",
       "      <td>0</td>\n",
       "      <td>...</td>\n",
       "      <td>0</td>\n",
       "      <td>0</td>\n",
       "      <td>0</td>\n",
       "      <td>0</td>\n",
       "      <td>0</td>\n",
       "      <td>0</td>\n",
       "      <td>0</td>\n",
       "      <td>0</td>\n",
       "      <td>0</td>\n",
       "      <td>0</td>\n",
       "    </tr>\n",
       "    <tr>\n",
       "      <th>3</th>\n",
       "      <td>1</td>\n",
       "      <td>0</td>\n",
       "      <td>0</td>\n",
       "      <td>0</td>\n",
       "      <td>0</td>\n",
       "      <td>0</td>\n",
       "      <td>0</td>\n",
       "      <td>0</td>\n",
       "      <td>0</td>\n",
       "      <td>0</td>\n",
       "      <td>...</td>\n",
       "      <td>0</td>\n",
       "      <td>0</td>\n",
       "      <td>0</td>\n",
       "      <td>0</td>\n",
       "      <td>0</td>\n",
       "      <td>0</td>\n",
       "      <td>0</td>\n",
       "      <td>0</td>\n",
       "      <td>0</td>\n",
       "      <td>0</td>\n",
       "    </tr>\n",
       "    <tr>\n",
       "      <th>4</th>\n",
       "      <td>9</td>\n",
       "      <td>0</td>\n",
       "      <td>0</td>\n",
       "      <td>0</td>\n",
       "      <td>0</td>\n",
       "      <td>0</td>\n",
       "      <td>0</td>\n",
       "      <td>0</td>\n",
       "      <td>0</td>\n",
       "      <td>0</td>\n",
       "      <td>...</td>\n",
       "      <td>0</td>\n",
       "      <td>0</td>\n",
       "      <td>0</td>\n",
       "      <td>0</td>\n",
       "      <td>0</td>\n",
       "      <td>0</td>\n",
       "      <td>0</td>\n",
       "      <td>0</td>\n",
       "      <td>0</td>\n",
       "      <td>0</td>\n",
       "    </tr>\n",
       "  </tbody>\n",
       "</table>\n",
       "<p>5 rows × 785 columns</p>\n",
       "</div>"
      ],
      "text/plain": [
       "   label  1x1  1x2  1x3  1x4  1x5  1x6  1x7  1x8  1x9  ...    28x19  28x20  \\\n",
       "0      5    0    0    0    0    0    0    0    0    0  ...        0      0   \n",
       "1      0    0    0    0    0    0    0    0    0    0  ...        0      0   \n",
       "2      4    0    0    0    0    0    0    0    0    0  ...        0      0   \n",
       "3      1    0    0    0    0    0    0    0    0    0  ...        0      0   \n",
       "4      9    0    0    0    0    0    0    0    0    0  ...        0      0   \n",
       "\n",
       "   28x21  28x22  28x23  28x24  28x25  28x26  28x27  28x28  \n",
       "0      0      0      0      0      0      0      0      0  \n",
       "1      0      0      0      0      0      0      0      0  \n",
       "2      0      0      0      0      0      0      0      0  \n",
       "3      0      0      0      0      0      0      0      0  \n",
       "4      0      0      0      0      0      0      0      0  \n",
       "\n",
       "[5 rows x 785 columns]"
      ]
     },
     "execution_count": 4,
     "metadata": {},
     "output_type": "execute_result"
    }
   ],
   "source": [
    "train.head()"
   ]
  },
  {
   "cell_type": "code",
   "execution_count": 5,
   "metadata": {
    "scrolled": true
   },
   "outputs": [
    {
     "name": "stdout",
     "output_type": "stream",
     "text": [
      "[5 0 4 ..., 5 6 8]\n"
     ]
    },
    {
     "data": {
      "text/plain": [
       "'t0 = train_data[0]\\nl0 = train_labels[0]\\nprint(t0,l0)'"
      ]
     },
     "execution_count": 5,
     "metadata": {},
     "output_type": "execute_result"
    }
   ],
   "source": [
    "train_data = train.drop(\"label\",axis=1)\n",
    "train_data = train_data.values\n",
    "train_labels = train[\"label\"].values\n",
    "\n",
    "test_data = test.drop(\"label\",axis=1)\n",
    "test_data = test_data.values\n",
    "test_labels = test[\"label\"].values\n",
    "\n",
    "\"\"\"print(train_data.shape)\n",
    "print(train_labels.shape)\n",
    "print(test_data.shape)\n",
    "print(test_labels.shape)\n",
    "\"\"\"\n",
    "print(train_labels)\n",
    "\"\"\"t0 = train_data[0]\n",
    "l0 = train_labels[0]\n",
    "print(t0,l0)\"\"\""
   ]
  },
  {
   "cell_type": "code",
   "execution_count": 6,
   "metadata": {},
   "outputs": [
    {
     "name": "stdout",
     "output_type": "stream",
     "text": [
      "(60000, 784)\n",
      "(60000,)\n",
      "(10000, 784)\n",
      "(10000,)\n"
     ]
    },
    {
     "data": {
      "text/plain": [
       "array([8, 1, 5, ..., 6, 3, 7])"
      ]
     },
     "execution_count": 6,
     "metadata": {},
     "output_type": "execute_result"
    }
   ],
   "source": [
    "tr_data_labels = np.c_[train_data,train_labels]\n",
    "np.random.shuffle(tr_data_labels)\n",
    "tr_data_labels\n",
    "\n",
    "train_labels = tr_data_labels[:,784]\n",
    "train_data = np.delete(tr_data_labels, 784, 1)\n",
    "print(train_data.shape)\n",
    "print(train_labels.shape)\n",
    "print(test_data.shape)\n",
    "print(test_labels.shape)\n",
    "train_labels\n"
   ]
  },
  {
   "cell_type": "markdown",
   "metadata": {},
   "source": [
    "## K-Means"
   ]
  },
  {
   "cell_type": "code",
   "execution_count": null,
   "metadata": {},
   "outputs": [],
   "source": []
  },
  {
   "cell_type": "code",
   "execution_count": 8,
   "metadata": {
    "scrolled": true
   },
   "outputs": [
    {
     "name": "stdout",
     "output_type": "stream",
     "text": [
      "2\n",
      "8\n",
      "8\n",
      "3\n",
      "5\n",
      "7\n",
      "7\n",
      "0\n",
      "9\n",
      "4\n"
     ]
    }
   ],
   "source": [
    "# initialize means to 10 random points\n",
    "means_indices = np.random.randint(low=0,high=60000,size=10)\n",
    "#means_indices = [36,31,28,24,21,19,18,26,34,30]\n",
    "means_new = np.zeros((10,784))\n",
    "means_old = np.array([train_data[i] for i in means_indices])\n",
    "for i in means_indices:\n",
    "    print(train_labels[i]) "
   ]
  },
  {
   "cell_type": "code",
   "execution_count": 9,
   "metadata": {},
   "outputs": [],
   "source": [
    "eps_dist = 1\n",
    "dist = np.linalg.norm(means_new-means_old)\n",
    "dist = 100\n",
    "#dist2 = 0\n"
   ]
  },
  {
   "cell_type": "code",
   "execution_count": 10,
   "metadata": {
    "scrolled": true
   },
   "outputs": [
    {
     "data": {
      "application/vnd.jupyter.widget-view+json": {
       "model_id": "e21709c2873a44d29ea25d40928f7ab4",
       "version_major": 2,
       "version_minor": 0
      },
      "text/plain": [
       "HBox(children=(IntProgress(value=0, max=201), HTML(value='')))"
      ]
     },
     "metadata": {},
     "output_type": "display_data"
    },
    {
     "name": "stdout",
     "output_type": "stream",
     "text": [
      "100 1 1425\n",
      "1563.3924394930261 1 6156\n",
      "369.412514582816 1 6115\n",
      "251.73825689685378 1 6134\n",
      "306.682181811133 1 6082\n",
      "201.15047457991395 1 6061\n",
      "140.7468006218947 1 6036\n",
      "109.36798893914538 1 6011\n",
      "91.64589064917901 1 5990\n",
      "86.2444620679993 1 5995\n",
      "74.4697653264237 1 5994\n",
      "63.293046770840846 1 5991\n",
      "47.0428951919667 1 5993\n",
      "32.14531048243017 1 5991\n",
      "27.48278271813446 1 5987\n",
      "25.702141266855296 1 5993\n",
      "20.05255112402001 1 5992\n",
      "18.619670077647026 1 5996\n",
      "17.091060128276418 1 5991\n",
      "14.480569097785198 1 5986\n",
      "12.171371494115839 1 5981\n",
      "11.375317608075958 1 5982\n",
      "12.575204423201155 1 5980\n",
      "10.610844421898543 1 5983\n",
      "11.78061923046568 1 5985\n",
      "12.630370832397597 1 5984\n",
      "12.775789565395822 1 5989\n",
      "13.272979117405368 1 5990\n",
      "11.668567371132218 1 5990\n",
      "12.19314731900215 1 5987\n",
      "11.26895852089021 1 5986\n",
      "9.443896929680449 1 5988\n",
      "8.143663262467149 1 5989\n",
      "8.599539597938758 1 5989\n",
      "8.847747404936067 1 5992\n",
      "9.802375710244068 1 5989\n",
      "8.875316841520705 1 5992\n",
      "7.527507925878601 1 5992\n",
      "6.696701706715197 1 5993\n",
      "5.531534709455088 1 5996\n",
      "4.8909898356406885 1 5996\n",
      "5.8201676056556995 1 5997\n",
      "6.142660988284285 1 5999\n",
      "7.0854386597493155 1 5997\n",
      "6.866863667949361 1 5996\n",
      "6.647287907932019 1 5997\n",
      "6.11951720349724 1 5998\n",
      "5.727273831408309 1 5997\n",
      "4.42672082546924 1 5999\n",
      "3.6417329317267817 1 5997\n",
      "4.80653848708751 1 5997\n",
      "6.282040616134107 1 5997\n",
      "6.338587442438234 1 5996\n",
      "5.9378149172473815 1 5993\n",
      "7.425499301194413 1 5992\n",
      "5.636552916298526 1 5991\n",
      "5.734388080947625 1 5987\n",
      "4.947512612417253 1 5988\n",
      "5.600928747941285 1 5984\n",
      "6.20286928443421 1 5984\n",
      "6.010290071151703 1 5985\n",
      "5.882361521915171 1 5985\n",
      "5.393311331730549 1 5983\n",
      "5.141146484149904 1 5979\n",
      "5.253459529532942 1 5979\n",
      "3.8529767080048942 1 5980\n",
      "4.207431917030541 1 5980\n",
      "4.496201515645913 1 5978\n",
      "4.581323812858292 1 5978\n",
      "5.273258767588269 1 5978\n",
      "4.094594193408859 1 5978\n",
      "3.775269096365473 1 5978\n",
      "2.964967628690822 1 5978\n",
      "2.941435866781225 1 5978\n",
      "4.401154361983913 1 5978\n",
      "3.4095913041592882 1 5977\n",
      "2.988457055526252 1 5975\n",
      "2.7186328988748207 1 5975\n",
      "2.482039487517584 1 5975\n",
      "2.6442634741875204 1 5975\n",
      "1.791212288973382 1 5975\n",
      "1.957250418145253 1 5975\n",
      "2.5055409480459163 1 5972\n",
      "2.7661328633484548 1 5971\n",
      "2.389629598914055 1 5973\n",
      "2.4398513779292395 1 5974\n",
      "3.267277409146545 1 5974\n",
      "2.4885512801331977 1 5977\n",
      "1.616703848472476 1 5977\n",
      "1.4270452085591632 1 5977\n",
      "0.9654194081095029 1\n"
     ]
    }
   ],
   "source": [
    "classes = []\n",
    "mean_dists = [[0 for i in range(60000)] for j in range(10)]\n",
    "pbar = tqdm(total = 200+1)\n",
    "while dist >= eps_dist:\n",
    "    \n",
    "    print(dist,eps_dist,np.count_nonzero(means_old))\n",
    "    b = np.zeros((10,60000))\n",
    "    mean_dists = [[0 for i in range(60000)] for j in range(10)]\n",
    "    \n",
    "    for i in range(10):\n",
    "        for j in range(60000):\n",
    "            mean_dists[i][j] = np.linalg.norm(train_data[j]-means_old[i])\n",
    "    mean_dists = np.array(mean_dists)\n",
    "    \n",
    "    for j in range(60000):\n",
    "        b[np.argmin(mean_dists[:,j])][j] = 1\n",
    "        \n",
    "    b_sum = np.sum(b,axis=1)\n",
    "    \n",
    "    for i in range(10):\n",
    "        for j in range(60000):\n",
    "            means_new[i] = np.add(means_new[i],b[i][j]*train_data[j])\n",
    "        means_new[i] = np.divide(means_new[i],b_sum[i])\n",
    "    \n",
    "    #dist = np.linalg.norm(means_new-means_old)\n",
    "    diff = means_new-means_old\n",
    "    lst = []\n",
    "    for i in range(10):\n",
    "        lst.append(np.linalg.norm(diff[i]))\n",
    "    dist = np.max(np.array(lst))\n",
    "    means_old = means_new\n",
    "    means_new =  np.zeros((10,784))\n",
    "    pbar.update(1)\n",
    "print(dist,eps_dist)"
   ]
  },
  {
   "cell_type": "code",
   "execution_count": 11,
   "metadata": {},
   "outputs": [],
   "source": [
    "N = 60000\n",
    "class_data = [[] for i in range(10)]\n",
    "for i in range(N):\n",
    "    class_data[train_labels[i]].append(train_data[i])"
   ]
  },
  {
   "cell_type": "code",
   "execution_count": 12,
   "metadata": {},
   "outputs": [
    {
     "name": "stdout",
     "output_type": "stream",
     "text": [
      "5923\n",
      "6742\n",
      "5958\n",
      "6131\n",
      "5842\n",
      "5421\n",
      "5918\n",
      "6265\n",
      "5851\n",
      "5949\n"
     ]
    }
   ],
   "source": [
    "cnt = 0\n",
    "for i in range(10):\n",
    "    cnt += len(class_data[i])\n",
    "    print(len(class_data[i]))"
   ]
  },
  {
   "cell_type": "code",
   "execution_count": 13,
   "metadata": {},
   "outputs": [],
   "source": [
    "lst_train1 = [0 for i in range(N)]"
   ]
  },
  {
   "cell_type": "code",
   "execution_count": 14,
   "metadata": {},
   "outputs": [],
   "source": [
    "for i in range(60000):\n",
    "    lst_train1[i] = tuple(train_data[i])"
   ]
  },
  {
   "cell_type": "code",
   "execution_count": null,
   "metadata": {},
   "outputs": [],
   "source": [
    "b = [[0 for j in range(N)] for i in range(10)]\n",
    "dis = [0 for j in range(N)]\n",
    "for i in range(10):\n",
    "    for j in range(N):\n",
    "        dis[j] = np.linalg.norm(train_data[j]-means_old[i])\n",
    "    b[]"
   ]
  },
  {
   "cell_type": "code",
   "execution_count": 35,
   "metadata": {},
   "outputs": [
    {
     "data": {
      "application/vnd.jupyter.widget-view+json": {
       "model_id": "6b5e6ee1362042e2ab1c9d4f2865fdcf",
       "version_major": 2,
       "version_minor": 0
      },
      "text/plain": [
       "HBox(children=(IntProgress(value=0, max=10), HTML(value='')))"
      ]
     },
     "metadata": {},
     "output_type": "display_data"
    },
    {
     "name": "stdout",
     "output_type": "stream",
     "text": [
      "[  29 2978  369   84  230  712  191  236  390   77]\n",
      "[ 584    6  141 1230   13 1833  130    3 3106   44]\n",
      "[  39    9 4193  205   15   14   88   30   43    5]\n",
      "[  86    4  227   68 2200  190  534  574  136 1410]\n",
      "[ 233   10  163   61  128  138 4626    2   53    8]\n",
      "[   0 3713  320  369   98  118  243  218  278  139]\n",
      "[  13    9   39  161 1614  303    1 2392  208 2455]\n",
      "[4679    0   55   34    4   63   72   13   29   29]\n",
      "[ 233    6  391 3887    0 1783   32    3 1374   88]\n",
      "[  27    7   60   32 1540  267    1 2794  234 1694]\n"
     ]
    }
   ],
   "source": [
    "final_labels = [-1 for i in range(10)]\n",
    "\n",
    "for i in tqdm(range(10)):\n",
    "    counts = [0 for j in range(10)]\n",
    "    for j in range(N):\n",
    "        if b[i][j] == 1:\n",
    "            counts[train_labels[j]] += 1\n",
    "    counts = np.array(counts)\n",
    "    print(counts)\n",
    "    final_labels[i] = counts.argmax()"
   ]
  },
  {
   "cell_type": "code",
   "execution_count": 36,
   "metadata": {},
   "outputs": [
    {
     "data": {
      "text/plain": [
       "[1, 8, 2, 4, 6, 1, 9, 0, 3, 7]"
      ]
     },
     "execution_count": 36,
     "metadata": {},
     "output_type": "execute_result"
    }
   ],
   "source": [
    "final_labels"
   ]
  },
  {
   "cell_type": "code",
   "execution_count": 37,
   "metadata": {},
   "outputs": [],
   "source": [
    "# assigning label 5 to cluster 0 as it has more 5's than cluster 5 (counting of cluster is done from 0)\n",
    "final_labels[0] = 5"
   ]
  },
  {
   "cell_type": "code",
   "execution_count": 38,
   "metadata": {},
   "outputs": [
    {
     "data": {
      "text/plain": [
       "[5, 8, 2, 4, 6, 1, 9, 0, 3, 7]"
      ]
     },
     "execution_count": 38,
     "metadata": {},
     "output_type": "execute_result"
    }
   ],
   "source": [
    "final_labels"
   ]
  },
  {
   "cell_type": "code",
   "execution_count": 50,
   "metadata": {},
   "outputs": [],
   "source": [
    "for i in range(10):\n",
    "    for j in range(60000):\n",
    "        mean_dists[i][j] = np.linalg.norm(train_data[j]-means_old[i])\n",
    "mean_dists = np.array(mean_dists)\n",
    "    \n",
    "for j in range(60000):\n",
    "    b[np.argmin(mean_dists[:,j])][j] = 1\n",
    "        \n",
    "b_sum = np.sum(b,axis=1)"
   ]
  },
  {
   "cell_type": "code",
   "execution_count": 51,
   "metadata": {},
   "outputs": [
    {
     "data": {
      "application/vnd.jupyter.widget-view+json": {
       "model_id": "f8b7fde93a804acab903bceb9d3b7fd7",
       "version_major": 2,
       "version_minor": 0
      },
      "text/plain": [
       "HBox(children=(IntProgress(value=0, max=10), HTML(value='')))"
      ]
     },
     "metadata": {},
     "output_type": "display_data"
    }
   ],
   "source": [
    "mis_pred = 0\n",
    "for i in tqdm(range(10)):\n",
    "    counts = [0 for j in range(10)]\n",
    "    for j in range(N):\n",
    "        if b[i][j] == 1:\n",
    "            counts[train_labels[j]] += 1\n",
    "    for k in range(10):\n",
    "        mis_pred += counts[k]\n",
    "    mis_pred -= counts[final_labels[i]]"
   ]
  },
  {
   "cell_type": "code",
   "execution_count": 55,
   "metadata": {
    "scrolled": true
   },
   "outputs": [
    {
     "name": "stdout",
     "output_type": "stream",
     "text": [
      "\n",
      "Train accuracy:  53.92 %\n",
      "\n"
     ]
    }
   ],
   "source": [
    "print(\"\\nTrain accuracy: \",100-(mis_pred/N)*100,\"%\\n\")"
   ]
  },
  {
   "cell_type": "code",
   "execution_count": 53,
   "metadata": {},
   "outputs": [],
   "source": [
    "test_pred = [0 for i  in range(10000)]\n",
    "for i in range(10000):\n",
    "    test_dists = [0]*10\n",
    "    for j in range(10):\n",
    "        test_dists[j] = np.linalg.norm(means_old[j]-test_data[i])\n",
    "    test_pred[i] = final_labels[np.array(test_dists).argmin()]\n",
    "\n",
    "test_acc = 0\n",
    "for i in range(10000) :\n",
    "    if test_pred[i] == test_labels[i]:\n",
    "        test_acc = test_acc + 1"
   ]
  },
  {
   "cell_type": "code",
   "execution_count": 56,
   "metadata": {},
   "outputs": [
    {
     "name": "stdout",
     "output_type": "stream",
     "text": [
      "\n",
      "Test accuracy:  54.74 %\n",
      "\n"
     ]
    }
   ],
   "source": [
    "print(\"\\nTest accuracy: \",(test_acc/10000)*100,\"%\\n\")"
   ]
  },
  {
   "cell_type": "code",
   "execution_count": 65,
   "metadata": {
    "scrolled": false
   },
   "outputs": [
    {
     "data": {
      "application/vnd.jupyter.widget-view+json": {
       "model_id": "e7455cf32c4b42ed80897b00b6e09b3c",
       "version_major": 2,
       "version_minor": 0
      },
      "text/plain": [
       "HBox(children=(IntProgress(value=0, max=10), HTML(value='')))"
      ]
     },
     "metadata": {},
     "output_type": "display_data"
    },
    {
     "data": {
      "application/vnd.jupyter.widget-view+json": {
       "model_id": "137fe38bc4bb481dbe5fb22a078bf473",
       "version_major": 2,
       "version_minor": 0
      },
      "text/plain": [
       "HBox(children=(IntProgress(value=0, max=5296), HTML(value='')))"
      ]
     },
     "metadata": {},
     "output_type": "display_data"
    },
    {
     "data": {
      "application/vnd.jupyter.widget-view+json": {
       "model_id": "59f6ac4e4e734119a0bf18a907106172",
       "version_major": 2,
       "version_minor": 0
      },
      "text/plain": [
       "HBox(children=(IntProgress(value=0, max=7091), HTML(value='')))"
      ]
     },
     "metadata": {},
     "output_type": "display_data"
    },
    {
     "data": {
      "application/vnd.jupyter.widget-view+json": {
       "model_id": "c553253852d24e218c07f17728d99c8b",
       "version_major": 2,
       "version_minor": 0
      },
      "text/plain": [
       "HBox(children=(IntProgress(value=0, max=4641), HTML(value='')))"
      ]
     },
     "metadata": {},
     "output_type": "display_data"
    },
    {
     "data": {
      "application/vnd.jupyter.widget-view+json": {
       "model_id": "acb270b510014a8c8e29f98845bdd735",
       "version_major": 2,
       "version_minor": 0
      },
      "text/plain": [
       "HBox(children=(IntProgress(value=0, max=5436), HTML(value='')))"
      ]
     },
     "metadata": {},
     "output_type": "display_data"
    },
    {
     "data": {
      "application/vnd.jupyter.widget-view+json": {
       "model_id": "987365512a8840dbb0b9f5de13544eac",
       "version_major": 2,
       "version_minor": 0
      },
      "text/plain": [
       "HBox(children=(IntProgress(value=0, max=5422), HTML(value='')))"
      ]
     },
     "metadata": {},
     "output_type": "display_data"
    },
    {
     "data": {
      "application/vnd.jupyter.widget-view+json": {
       "model_id": "a9d7fafd5acd4a80adebfb935b782f6b",
       "version_major": 2,
       "version_minor": 0
      },
      "text/plain": [
       "HBox(children=(IntProgress(value=0, max=5496), HTML(value='')))"
      ]
     },
     "metadata": {},
     "output_type": "display_data"
    },
    {
     "data": {
      "application/vnd.jupyter.widget-view+json": {
       "model_id": "6afa251297074cbab65e50403f2de162",
       "version_major": 2,
       "version_minor": 0
      },
      "text/plain": [
       "HBox(children=(IntProgress(value=0, max=7201), HTML(value='')))"
      ]
     },
     "metadata": {},
     "output_type": "display_data"
    },
    {
     "data": {
      "application/vnd.jupyter.widget-view+json": {
       "model_id": "de0bbc47849148b4a14eb380954b4213",
       "version_major": 2,
       "version_minor": 0
      },
      "text/plain": [
       "HBox(children=(IntProgress(value=0, max=4978), HTML(value='')))"
      ]
     },
     "metadata": {},
     "output_type": "display_data"
    },
    {
     "data": {
      "application/vnd.jupyter.widget-view+json": {
       "model_id": "f3f59ce8c79e46edacb4aa97722f274d",
       "version_major": 2,
       "version_minor": 0
      },
      "text/plain": [
       "HBox(children=(IntProgress(value=0, max=7797), HTML(value='')))"
      ]
     },
     "metadata": {},
     "output_type": "display_data"
    },
    {
     "data": {
      "application/vnd.jupyter.widget-view+json": {
       "model_id": "dba74d99448044bf8a264c02f3a4f118",
       "version_major": 2,
       "version_minor": 0
      },
      "text/plain": [
       "HBox(children=(IntProgress(value=0, max=6656), HTML(value='')))"
      ]
     },
     "metadata": {},
     "output_type": "display_data"
    }
   ],
   "source": [
    "res_dist = [0]*10\n",
    "res_dmtr = [0]*10\n",
    "res_acc = [0]*10\n",
    "for i in tqdm(range(10)):\n",
    "    indices = [j for j, n in enumerate(b[i]) if n == 1]\n",
    "    dists_mean = np.zeros((len(indices),len(indices)))\n",
    "    sum_squares = 0\n",
    "    for j in tqdm(range(len(indices))):\n",
    "        if train_labels[indices[j]] == final_labels[i]:\n",
    "            res_acc[i] += 1\n",
    "        sum_squares += np.power(np.linalg.norm(means_old-train_data[indices[j]]),2)\n",
    "        for k in range(j,len(indices)):\n",
    "            dists_mean[j][k] = np.linalg.norm(train_data[indices[k]] - train_data[indices[j]])\n",
    "    res_dmtr[i] = np.max(dists_mean)\n",
    "    res_dist[i] = sum_squares\n",
    "    res_acc[i] /= len(indices)"
   ]
  },
  {
   "cell_type": "code",
   "execution_count": 67,
   "metadata": {},
   "outputs": [
    {
     "data": {
      "text/html": [
       "<div>\n",
       "<style scoped>\n",
       "    .dataframe tbody tr th:only-of-type {\n",
       "        vertical-align: middle;\n",
       "    }\n",
       "\n",
       "    .dataframe tbody tr th {\n",
       "        vertical-align: top;\n",
       "    }\n",
       "\n",
       "    .dataframe thead th {\n",
       "        text-align: right;\n",
       "    }\n",
       "</style>\n",
       "<table border=\"1\" class=\"dataframe\">\n",
       "  <thead>\n",
       "    <tr style=\"text-align: right;\">\n",
       "      <th></th>\n",
       "      <th>Label</th>\n",
       "      <th>Accuracy</th>\n",
       "      <th>Diameter</th>\n",
       "      <th>Sq.Distance</th>\n",
       "    </tr>\n",
       "  </thead>\n",
       "  <tbody>\n",
       "    <tr>\n",
       "      <th>0</th>\n",
       "      <td>5</td>\n",
       "      <td>0.134441</td>\n",
       "      <td>3222.821590</td>\n",
       "      <td>1.942741e+11</td>\n",
       "    </tr>\n",
       "    <tr>\n",
       "      <th>1</th>\n",
       "      <td>8</td>\n",
       "      <td>0.438020</td>\n",
       "      <td>3805.877428</td>\n",
       "      <td>3.028566e+11</td>\n",
       "    </tr>\n",
       "    <tr>\n",
       "      <th>2</th>\n",
       "      <td>2</td>\n",
       "      <td>0.903469</td>\n",
       "      <td>3855.856325</td>\n",
       "      <td>2.302895e+11</td>\n",
       "    </tr>\n",
       "    <tr>\n",
       "      <th>3</th>\n",
       "      <td>4</td>\n",
       "      <td>0.404709</td>\n",
       "      <td>3786.763130</td>\n",
       "      <td>2.585273e+11</td>\n",
       "    </tr>\n",
       "    <tr>\n",
       "      <th>4</th>\n",
       "      <td>6</td>\n",
       "      <td>0.853191</td>\n",
       "      <td>3687.544847</td>\n",
       "      <td>2.373480e+11</td>\n",
       "    </tr>\n",
       "    <tr>\n",
       "      <th>5</th>\n",
       "      <td>1</td>\n",
       "      <td>0.675582</td>\n",
       "      <td>3022.513027</td>\n",
       "      <td>1.848557e+11</td>\n",
       "    </tr>\n",
       "    <tr>\n",
       "      <th>6</th>\n",
       "      <td>9</td>\n",
       "      <td>0.341064</td>\n",
       "      <td>3529.545296</td>\n",
       "      <td>2.772344e+11</td>\n",
       "    </tr>\n",
       "    <tr>\n",
       "      <th>7</th>\n",
       "      <td>0</td>\n",
       "      <td>0.939936</td>\n",
       "      <td>3971.084613</td>\n",
       "      <td>2.897588e+11</td>\n",
       "    </tr>\n",
       "    <tr>\n",
       "      <th>8</th>\n",
       "      <td>3</td>\n",
       "      <td>0.498525</td>\n",
       "      <td>3805.211689</td>\n",
       "      <td>3.651706e+11</td>\n",
       "    </tr>\n",
       "    <tr>\n",
       "      <th>9</th>\n",
       "      <td>7</td>\n",
       "      <td>0.419772</td>\n",
       "      <td>3526.387103</td>\n",
       "      <td>2.651400e+11</td>\n",
       "    </tr>\n",
       "  </tbody>\n",
       "</table>\n",
       "</div>"
      ],
      "text/plain": [
       "   Label  Accuracy     Diameter   Sq.Distance\n",
       "0      5  0.134441  3222.821590  1.942741e+11\n",
       "1      8  0.438020  3805.877428  3.028566e+11\n",
       "2      2  0.903469  3855.856325  2.302895e+11\n",
       "3      4  0.404709  3786.763130  2.585273e+11\n",
       "4      6  0.853191  3687.544847  2.373480e+11\n",
       "5      1  0.675582  3022.513027  1.848557e+11\n",
       "6      9  0.341064  3529.545296  2.772344e+11\n",
       "7      0  0.939936  3971.084613  2.897588e+11\n",
       "8      3  0.498525  3805.211689  3.651706e+11\n",
       "9      7  0.419772  3526.387103  2.651400e+11"
      ]
     },
     "execution_count": 67,
     "metadata": {},
     "output_type": "execute_result"
    }
   ],
   "source": [
    "res_tab = pd.DataFrame({\"Label\":final_labels,\n",
    "                        \"Accuracy\":res_acc,\n",
    "                        \"Diameter\":res_dmtr,\n",
    "                        \"Sq.Distance\":res_dist})\n",
    "res_tab"
   ]
  },
  {
   "cell_type": "code",
   "execution_count": 69,
   "metadata": {},
   "outputs": [],
   "source": [
    "size = [1,2,3]"
   ]
  },
  {
   "cell_type": "code",
   "execution_count": 70,
   "metadata": {},
   "outputs": [
    {
     "data": {
      "text/plain": [
       "[1, 2]"
      ]
     },
     "execution_count": 70,
     "metadata": {},
     "output_type": "execute_result"
    }
   ],
   "source": [
    "size[:-1]"
   ]
  },
  {
   "cell_type": "code",
   "execution_count": 71,
   "metadata": {},
   "outputs": [
    {
     "name": "stdout",
     "output_type": "stream",
     "text": [
      "1\n",
      "2\n"
     ]
    }
   ],
   "source": [
    "for sizes in size[:-1]:\n",
    "    print(sizes)"
   ]
  },
  {
   "cell_type": "code",
   "execution_count": 11,
   "metadata": {},
   "outputs": [],
   "source": [
    "def k_means(train_data, train_labels, eps_dis = 1, d = 784, k = 10):\n",
    "    # initialize means to 10 random points\n",
    "    N = len(train_data)\n",
    "    means_indices = np.random.randint(low=0,high=len(train_data),size=k)\n",
    "    #means_indices = [36,31,28,24,21,19,18,26,34,30]\n",
    "    means_new = np.zeros((k,d))\n",
    "    means_old = np.array([train_data[i] for i in means_indices])\n",
    "    for i in means_indices:\n",
    "        print(train_labels[i]) \n",
    "\n",
    "    eps_dist = eps_dis\n",
    "    diff = means_new-means_old\n",
    "    lst = []\n",
    "    for i in range(k):\n",
    "        lst.append(np.linalg.norm(diff[i]))\n",
    "    dist = np.max(np.array(lst))\n",
    "    #dist = 100\n",
    "    #dist2 = 0\n",
    "\n",
    "    classes = []\n",
    "    mean_dists = [[0 for i in range(len(train_data))] for j in range(k)]\n",
    "    pbar = tqdm(total = 200+1)\n",
    "\n",
    "    cntr = 0\n",
    "    while dist >= eps_dist:\n",
    "        cntr += 1\n",
    "        b = np.zeros((k,len(train_data)))\n",
    "        mean_dists = [[0 for i in range(len(train_data))] for j in range(k)]\n",
    "\n",
    "        for i in range(k):\n",
    "            for j in range(len(train_data)):\n",
    "                mean_dists[i][j] = np.linalg.norm(train_data[j]-means_old[i])\n",
    "        mean_dists = np.array(mean_dists)\n",
    "\n",
    "        for j in range(len(train_data)):\n",
    "            b[np.argmin(mean_dists[:,j])][j] = 1\n",
    "\n",
    "        b_sum = np.sum(b,axis=1)\n",
    "\n",
    "        for i in range(k):\n",
    "            for j in range(len(train_data)):\n",
    "                means_new[i] = np.add(means_new[i],b[i][j]*train_data[j])\n",
    "            means_new[i] = np.divide(means_new[i],b_sum[i])\n",
    "\n",
    "        #dist = np.linalg.norm(means_new-means_old)\n",
    "        diff = means_new-means_old\n",
    "        lst = []\n",
    "        for i in range(k):\n",
    "            lst.append(np.linalg.norm(diff[i]))\n",
    "        dist = np.max(np.array(lst))\n",
    "        means_old = means_new\n",
    "        means_new =  np.zeros((k,d))\n",
    "        pbar.update(1)\n",
    "        print(\"Iter %d: dist = \" %(cntr),dist)#eps_dist,np.count_nonzero(means_old))\n",
    "\n",
    "    #print(dist,eps_dist)\n",
    "    # finding diameters of clusters\n",
    "    print(\"computing diameters...\")\n",
    "    print(\"\\tcomputing distances from the mean...\")\n",
    "    diams = [0 for i in range(k)]\n",
    "    b = np.zeros((k,len(train_data)))\n",
    "    for i in tqdm(range(k)):\n",
    "            for j in range(len(train_data)):\n",
    "                mean_dists[i][j] = np.linalg.norm(train_data[j]-means_old[i])\n",
    "    mean_dists = np.array(mean_dists)\n",
    "\n",
    "    print(\"\\tfinding diameters...\")\n",
    "    for j in range(len(train_data)):\n",
    "            b[np.argmin(mean_dists[:,j])][j] = 1\n",
    "    for i in tqdm(range(k)):\n",
    "        for j in tqdm(range(N)):\n",
    "            for l in range(N):\n",
    "                if b[i][j] == 1 and b[i][l] == 1:\n",
    "                    t = np.linalg.norm(train_data[j]-train_data[l])\n",
    "                    if diams[i] < t:\n",
    "                        diams[i] = t\n",
    "                \n",
    "    \n",
    "    # predicting labels\n",
    "    print(\"Done.\\n\\npredicting labels...\")\n",
    "    final_labels = [0 for i in range(N)]\n",
    "    for j in tqdm(range(N)):\n",
    "        tmp = np.inf\n",
    "        lbl = -1\n",
    "        for i in range(k):\n",
    "            dis = np.linalg.norm(train_data[j]-means_old[i])\n",
    "            if dis < tmp:\n",
    "                tmp = dis\n",
    "                lbl = i\n",
    "        final_labels[j] = lbl\n",
    "        \n",
    "    print(\"Done.\\n\\ncomputing square_distances...\")\n",
    "    val = [0 for i in range(k)]\n",
    "    for i in tqdm(range(N)):\n",
    "        val[int(final_labels[i])] += np.power(np.linalg.norm(train_data[i]-means_old[int(final_labels[i])]),2)\n",
    "    \n",
    "    print(\"means: \",means_old)\n",
    "    print(\"sq_dists: \",val)\n",
    "    print(\"diameters: \",diams)\n",
    "    return nmi_score(train_labels, final_labels)"
   ]
  },
  {
   "cell_type": "code",
   "execution_count": 12,
   "metadata": {
    "scrolled": false
   },
   "outputs": [
    {
     "name": "stdout",
     "output_type": "stream",
     "text": [
      "9\n",
      "0\n",
      "2\n",
      "8\n",
      "7\n",
      "7\n",
      "0\n",
      "2\n",
      "9\n",
      "9\n"
     ]
    },
    {
     "data": {
      "application/vnd.jupyter.widget-view+json": {
       "model_id": "73d4daa868ce4d95bf142c160657f73d",
       "version_major": 2,
       "version_minor": 0
      },
      "text/plain": [
       "HBox(children=(IntProgress(value=0, max=201), HTML(value='')))"
      ]
     },
     "metadata": {},
     "output_type": "display_data"
    },
    {
     "name": "stdout",
     "output_type": "stream",
     "text": [
      "Iter 1: dist =  1530.50907039\n",
      "Iter 2: dist =  304.970693913\n",
      "Iter 3: dist =  189.770044747\n",
      "Iter 4: dist =  140.597430557\n",
      "Iter 5: dist =  100.437472537\n",
      "Iter 6: dist =  88.8845618615\n",
      "Iter 7: dist =  86.7556285471\n",
      "Iter 8: dist =  70.6846226195\n",
      "Iter 9: dist =  59.6879824219\n",
      "Iter 10: dist =  55.1564744933\n",
      "Iter 11: dist =  60.5600495117\n",
      "Iter 12: dist =  65.8249755518\n",
      "Iter 13: dist =  76.7226092808\n",
      "Iter 14: dist =  86.5618309226\n",
      "Iter 15: dist =  89.4197537094\n",
      "Iter 16: dist =  76.5869689521\n",
      "Iter 17: dist =  68.104441824\n",
      "Iter 18: dist =  57.1979620515\n",
      "Iter 19: dist =  55.6366976875\n",
      "Iter 20: dist =  53.8734460903\n",
      "Iter 21: dist =  48.3879441998\n",
      "Iter 22: dist =  37.4277516376\n",
      "Iter 23: dist =  29.5182110453\n",
      "Iter 24: dist =  24.6766928267\n",
      "Iter 25: dist =  21.737373657\n",
      "Iter 26: dist =  18.5158825005\n",
      "Iter 27: dist =  14.4644918599\n",
      "Iter 28: dist =  13.4981197677\n",
      "Iter 29: dist =  11.892904965\n",
      "Iter 30: dist =  8.73935028181\n",
      "Iter 31: dist =  7.51993010754\n",
      "Iter 32: dist =  6.72980099177\n",
      "Iter 33: dist =  4.63483475584\n",
      "Iter 34: dist =  5.50298726693\n",
      "Iter 35: dist =  5.22000357833\n",
      "Iter 36: dist =  3.804184627\n",
      "Iter 37: dist =  3.46767982055\n",
      "Iter 38: dist =  2.52455359073\n",
      "Iter 39: dist =  2.59737433801\n",
      "Iter 40: dist =  2.93645526192\n",
      "Iter 41: dist =  3.23349982188\n",
      "Iter 42: dist =  3.37248508178\n",
      "Iter 43: dist =  3.09159957128\n",
      "Iter 44: dist =  2.091746944\n",
      "Iter 45: dist =  2.97757134888\n",
      "Iter 46: dist =  1.28644926321\n",
      "Iter 47: dist =  1.91578811238\n",
      "Iter 48: dist =  1.33183668525\n",
      "Iter 49: dist =  1.0842990869\n",
      "Iter 50: dist =  1.33501911275\n",
      "Iter 51: dist =  2.2805688761\n",
      "Iter 52: dist =  1.33166131142\n",
      "Iter 53: dist =  1.09850670861\n",
      "Iter 54: dist =  0.620987476055\n",
      "computing diameters...\n",
      "\tcomputing distances from the mean...\n"
     ]
    },
    {
     "data": {
      "application/vnd.jupyter.widget-view+json": {
       "model_id": "47e6ddd748b741aa820006892ba2f023",
       "version_major": 2,
       "version_minor": 0
      },
      "text/plain": [
       "HBox(children=(IntProgress(value=0, max=10), HTML(value='')))"
      ]
     },
     "metadata": {},
     "output_type": "display_data"
    },
    {
     "name": "stdout",
     "output_type": "stream",
     "text": [
      "\tfinding diameters...\n"
     ]
    },
    {
     "data": {
      "application/vnd.jupyter.widget-view+json": {
       "model_id": "87d80f50694d4abbbecef30eabe371be",
       "version_major": 2,
       "version_minor": 0
      },
      "text/plain": [
       "HBox(children=(IntProgress(value=0, max=10), HTML(value='')))"
      ]
     },
     "metadata": {},
     "output_type": "display_data"
    },
    {
     "data": {
      "application/vnd.jupyter.widget-view+json": {
       "model_id": "ba586e56966943d6951c6018d48d2751",
       "version_major": 2,
       "version_minor": 0
      },
      "text/plain": [
       "HBox(children=(IntProgress(value=0, max=60000), HTML(value='')))"
      ]
     },
     "metadata": {},
     "output_type": "display_data"
    },
    {
     "data": {
      "application/vnd.jupyter.widget-view+json": {
       "model_id": "9ad730abb38d4b5798ff8d485843bd0d",
       "version_major": 2,
       "version_minor": 0
      },
      "text/plain": [
       "HBox(children=(IntProgress(value=0, max=60000), HTML(value='')))"
      ]
     },
     "metadata": {},
     "output_type": "display_data"
    },
    {
     "data": {
      "application/vnd.jupyter.widget-view+json": {
       "model_id": "9810176df54549da914a5b7391092f23",
       "version_major": 2,
       "version_minor": 0
      },
      "text/plain": [
       "HBox(children=(IntProgress(value=0, max=60000), HTML(value='')))"
      ]
     },
     "metadata": {},
     "output_type": "display_data"
    },
    {
     "data": {
      "application/vnd.jupyter.widget-view+json": {
       "model_id": "f1fcbf769be642b6bb44e80a20844b6a",
       "version_major": 2,
       "version_minor": 0
      },
      "text/plain": [
       "HBox(children=(IntProgress(value=0, max=60000), HTML(value='')))"
      ]
     },
     "metadata": {},
     "output_type": "display_data"
    },
    {
     "data": {
      "application/vnd.jupyter.widget-view+json": {
       "model_id": "234974d7be06416397a5ccd395a39771",
       "version_major": 2,
       "version_minor": 0
      },
      "text/plain": [
       "HBox(children=(IntProgress(value=0, max=60000), HTML(value='')))"
      ]
     },
     "metadata": {},
     "output_type": "display_data"
    },
    {
     "data": {
      "application/vnd.jupyter.widget-view+json": {
       "model_id": "d898477dd4ca4b55921c8e95816509a1",
       "version_major": 2,
       "version_minor": 0
      },
      "text/plain": [
       "HBox(children=(IntProgress(value=0, max=60000), HTML(value='')))"
      ]
     },
     "metadata": {},
     "output_type": "display_data"
    },
    {
     "data": {
      "application/vnd.jupyter.widget-view+json": {
       "model_id": "8456244bc4b541af8d4f244ed0116c54",
       "version_major": 2,
       "version_minor": 0
      },
      "text/plain": [
       "HBox(children=(IntProgress(value=0, max=60000), HTML(value='')))"
      ]
     },
     "metadata": {},
     "output_type": "display_data"
    },
    {
     "data": {
      "application/vnd.jupyter.widget-view+json": {
       "model_id": "3e61092c78f5457aaec74b6bd28519a2",
       "version_major": 2,
       "version_minor": 0
      },
      "text/plain": [
       "HBox(children=(IntProgress(value=0, max=60000), HTML(value='')))"
      ]
     },
     "metadata": {},
     "output_type": "display_data"
    },
    {
     "data": {
      "application/vnd.jupyter.widget-view+json": {
       "model_id": "00e63e1f4a9441b7a332e9c4a9f03beb",
       "version_major": 2,
       "version_minor": 0
      },
      "text/plain": [
       "HBox(children=(IntProgress(value=0, max=60000), HTML(value='')))"
      ]
     },
     "metadata": {},
     "output_type": "display_data"
    },
    {
     "data": {
      "application/vnd.jupyter.widget-view+json": {
       "model_id": "22ca3fa0a96f49fa886ed0b66328cd5f",
       "version_major": 2,
       "version_minor": 0
      },
      "text/plain": [
       "HBox(children=(IntProgress(value=0, max=60000), HTML(value='')))"
      ]
     },
     "metadata": {},
     "output_type": "display_data"
    },
    {
     "name": "stdout",
     "output_type": "stream",
     "text": [
      "Done.\n",
      "\n",
      "predicting labels...\n"
     ]
    },
    {
     "data": {
      "application/vnd.jupyter.widget-view+json": {
       "model_id": "e5311780e617474a9043c834ca345202",
       "version_major": 2,
       "version_minor": 0
      },
      "text/plain": [
       "HBox(children=(IntProgress(value=0, max=60000), HTML(value='')))"
      ]
     },
     "metadata": {},
     "output_type": "display_data"
    },
    {
     "name": "stdout",
     "output_type": "stream",
     "text": [
      "Done.\n",
      "\n",
      "computing square_distances...\n"
     ]
    },
    {
     "data": {
      "application/vnd.jupyter.widget-view+json": {
       "model_id": "5ea37e4be7304c3fa517f667ce598ab5",
       "version_major": 2,
       "version_minor": 0
      },
      "text/plain": [
       "HBox(children=(IntProgress(value=0, max=60000), HTML(value='')))"
      ]
     },
     "metadata": {},
     "output_type": "display_data"
    },
    {
     "name": "stdout",
     "output_type": "stream",
     "text": [
      "means:  [[ 0.  0.  0. ...,  0.  0.  0.]\n",
      " [ 0.  0.  0. ...,  0.  0.  0.]\n",
      " [ 0.  0.  0. ...,  0.  0.  0.]\n",
      " ..., \n",
      " [ 0.  0.  0. ...,  0.  0.  0.]\n",
      " [ 0.  0.  0. ...,  0.  0.  0.]\n",
      " [ 0.  0.  0. ...,  0.  0.  0.]]\n",
      "sq_dists:  [18122200520.356575, 9218415287.6968861, 15771787775.787598, 21927247376.751011, 10267837338.392799, 20480380042.249371, 8844320232.0576534, 15110871297.341501, 9081122652.7205734, 24168430228.252979]\n",
      "diameters:  [3619.4489912139943, 3915.3889972772822, 3687.5448471849127, 3805.2116892493641, 3181.0572141978209, 3526.3871029709712, 3886.0887792226263, 3855.8563251241612, 3022.5130272672109, 3727.9840396654063]\n",
      "NMI:  0.490872422144\n"
     ]
    }
   ],
   "source": [
    "nmi = k_means(train_data, train_labels)\n",
    "print(\"NMI: \",nmi)"
   ]
  },
  {
   "cell_type": "markdown",
   "metadata": {},
   "source": [
    "#### Note: Code can be improved.\n"
   ]
  },
  {
   "cell_type": "code",
   "execution_count": null,
   "metadata": {},
   "outputs": [],
   "source": []
  }
 ],
 "metadata": {
  "kernelspec": {
   "display_name": "Python 3",
   "language": "python",
   "name": "python3"
  },
  "language_info": {
   "codemirror_mode": {
    "name": "ipython",
    "version": 3
   },
   "file_extension": ".py",
   "mimetype": "text/x-python",
   "name": "python",
   "nbconvert_exporter": "python",
   "pygments_lexer": "ipython3",
   "version": "3.6.8"
  }
 },
 "nbformat": 4,
 "nbformat_minor": 2
}
