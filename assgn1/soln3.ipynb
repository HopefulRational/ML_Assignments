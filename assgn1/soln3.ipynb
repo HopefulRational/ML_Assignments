{
 "cells": [
  {
   "cell_type": "code",
   "execution_count": 3,
   "metadata": {
    "collapsed": true
   },
   "outputs": [],
   "source": [
    "import pandas as pd\n",
    "import numpy as np\n",
    "import copy"
   ]
  },
  {
   "cell_type": "code",
   "execution_count": 45,
   "metadata": {
    "collapsed": false
   },
   "outputs": [
    {
     "name": "stdout",
     "output_type": "stream",
     "text": [
      "shrimp\n"
     ]
    }
   ],
   "source": [
    "data = pd.read_csv(\"store_data.csv\",header=None)\n",
    "\n",
    "numCustomers = data.shape[0]\n",
    "ALL_ITEMS = pd.unique(data[[i for i in range(20)]].values.ravel('K'))\n",
    "#print(numCustomers)\n",
    "#print(data.shape)\n",
    "print(data[0][0])\n",
    "\n",
    "# WARNING: DATA BASED CODE below to remove nan\n",
    "ALL_ITEMS = np.delete(ALL_ITEMS,-6)   # removing nan\n",
    "#ALL_ITEMS.shape\n",
    "#ALL_ITEMS"
   ]
  },
  {
   "cell_type": "code",
   "execution_count": 28,
   "metadata": {
    "collapsed": true
   },
   "outputs": [],
   "source": [
    "# FIXING parameters\n",
    "minSupport = 0.05\n",
    "minConfidence = 0.2"
   ]
  },
  {
   "cell_type": "code",
   "execution_count": 6,
   "metadata": {
    "collapsed": true
   },
   "outputs": [],
   "source": [
    "def support(items,data,customers=numCustomers):\n",
    "    i = 1\n",
    "    count = 0\n",
    "    # can also use set()\n",
    "    for index, prods in data.iterrows():\n",
    "        i = 1\n",
    "        for item in items:\n",
    "            if item not in prods.as_matrix():\n",
    "                i = 0\n",
    "                break\n",
    "        if i:\n",
    "            count += 1\n",
    "    return count/customers\n",
    "        "
   ]
  },
  {
   "cell_type": "code",
   "execution_count": 7,
   "metadata": {
    "collapsed": true
   },
   "outputs": [],
   "source": [
    "def confidence(antecedent,consequent,customers=numCustomers):\n",
    "    numerator = 0\n",
    "    denominator = 0\n",
    "    is_antecedent = 1\n",
    "    is_concequent = 1\n",
    "    for index, prods in data.iterrows():\n",
    "        is_antecedent = 1\n",
    "        is_concequent = 1\n",
    "        for item in antecedent:\n",
    "            if item not in prods.as_matrix():\n",
    "                is_antecedent = is_concequent = 0\n",
    "                break\n",
    "        for item in consequent:\n",
    "            if item not in prods.as_matrix():\n",
    "                is_concequent = 0\n",
    "                break\n",
    "        if is_antecedent:\n",
    "            denominator += 1\n",
    "            if is_concequent:\n",
    "                numerator += 1\n",
    "    return numerator/denominator"
   ]
  },
  {
   "cell_type": "code",
   "execution_count": 8,
   "metadata": {
    "collapsed": true
   },
   "outputs": [],
   "source": [
    "def findFrequentItemsets(ALL_ITEMS,data):\n",
    "    frequent = []\n",
    "    lst = []\n",
    "    #with tqdm(total=len(ALL_ITEMS)) as pbar:\n",
    "    for item in ALL_ITEMS:\n",
    "        lst = [item]\n",
    "        if support([item],data) >= minSupport:\n",
    "            frequent.append([item])\n",
    "    return frequent"
   ]
  },
  {
   "cell_type": "code",
   "execution_count": 9,
   "metadata": {
    "collapsed": true
   },
   "outputs": [],
   "source": [
    "def generateCandidates(items):\n",
    "    candidates = []\n",
    "    for i in range(len(items)):\n",
    "        for j in range(i,len(items)):\n",
    "            if all(items[i]) not in items[j]:\n",
    "                candidates.append(items[i] + list(set(items[j]) - set(items[i])))\n",
    "    return candidates"
   ]
  },
  {
   "cell_type": "code",
   "execution_count": 36,
   "metadata": {
    "collapsed": false
   },
   "outputs": [],
   "source": [
    "freq_items1 = findFrequentItemsets(ALL_ITEMS,data)\n",
    "\n",
    "counter = 1\n",
    "i = 1\n",
    "l = 0\n",
    "# finding frequent itemsets\n",
    "while counter == 1 and i <= 25:\n",
    "    i += 1\n",
    "    cand = generateCandidates(freq_items1)\n",
    "    k = 0\n",
    "    l = 0\n",
    "    tmp = []\n",
    "    counter = 0\n",
    "    for j in cand:\n",
    "        if support(j,data) >= minSupport:\n",
    "            tmp.append(j)\n",
    "            l += 1\n",
    "            # if found new frequent itemset of length i\n",
    "            if len(j) == i:\n",
    "                counter = 1\n",
    "        k += 1\n",
    "    tmp = sorted(tmp)\n",
    "    freq_items1 = [tmp[i] for i in range(len(tmp)) if i == 0 or tmp[i] != tmp[i-1]]"
   ]
  },
  {
   "cell_type": "code",
   "execution_count": 37,
   "metadata": {
    "collapsed": false
   },
   "outputs": [
    {
     "name": "stdout",
     "output_type": "stream",
     "text": [
      "['burgers']\t0.0871883748833489\n",
      "['cake']\t0.08105585921877083\n",
      "['chicken']\t0.05999200106652446\n",
      "['chocolate']\t0.1638448206905746\n",
      "['chocolate', 'mineral water']\t0.05265964538061592\n",
      "['cookies']\t0.08038928142914278\n",
      "['cooking oil']\t0.0510598586855086\n",
      "['eggs']\t0.17970937208372217\n",
      "['eggs', 'mineral water']\t0.05092654312758299\n",
      "['escalope']\t0.0793227569657379\n",
      "['french fries']\t0.1709105452606319\n",
      "['frozen smoothie']\t0.06332489001466471\n",
      "['frozen vegetables']\t0.09532062391681109\n",
      "['grated cheese']\t0.0523930142647647\n",
      "['green tea']\t0.13211571790427942\n",
      "['ground beef']\t0.09825356619117451\n",
      "['low fat yogurt']\t0.07652313024930009\n",
      "['milk']\t0.12958272230369283\n",
      "['mineral water']\t0.23836821757099053\n",
      "['mineral water', 'chocolate']\t0.05265964538061592\n",
      "['mineral water', 'eggs']\t0.05092654312758299\n",
      "['mineral water', 'spaghetti']\t0.05972536995067324\n",
      "['olive oil']\t0.0658578856152513\n",
      "['pancakes']\t0.09505399280095987\n",
      "['shrimp']\t0.07145713904812692\n",
      "['soup']\t0.05052659645380616\n",
      "['spaghetti']\t0.17411011865084655\n",
      "['tomatoes']\t0.06839088121583789\n",
      "['turkey']\t0.06252499666711105\n",
      "['whole wheat rice']\t0.058525529929342755\n"
     ]
    }
   ],
   "source": [
    "len(freq_items1)\n",
    "freq_items1 = sorted(freq_items1)\n",
    "freq_items1 = [freq_items1[i] for i in range(len(freq_items1)) if i == 0 or freq_items1[i] != freq_items1[i-1]]\n",
    "for i in range(len(freq_items1)):\n",
    "    print(freq_items1[i],end='\\t')   \n",
    "    print(support(freq_items1[i],data))"
   ]
  },
  {
   "cell_type": "code",
   "execution_count": 21,
   "metadata": {
    "collapsed": true
   },
   "outputs": [],
   "source": [
    "anti = []\n",
    "conse = []\n",
    "def createRules(items):\n",
    "    res = []\n",
    "    for i in items[0]:\n",
    "        if i not in items[1]:\n",
    "            conse = [j for j in items[1]]\n",
    "            temp = []\n",
    "            elem = []\n",
    "            elem.append(i)\n",
    "            temp.append(list(set(items[0])-set(elem)))\n",
    "            temp.append(conse)\n",
    "            temp[1].append(i)\n",
    "            res.append(temp)\n",
    "    #print(res)\n",
    "    return res"
   ]
  },
  {
   "cell_type": "code",
   "execution_count": 22,
   "metadata": {
    "collapsed": false
   },
   "outputs": [
    {
     "data": {
      "text/plain": [
       "[['shrimp'],\n",
       " ['shrimp', 'burgers'],\n",
       " ['shrimp', 'turkey'],\n",
       " ['burgers'],\n",
       " ['burgers', 'turkey'],\n",
       " ['turkey']]"
      ]
     },
     "execution_count": 22,
     "metadata": {},
     "output_type": "execute_result"
    }
   ],
   "source": [
    "generateCandidates([['shrimp'],['burgers'],['turkey']])"
   ]
  },
  {
   "cell_type": "code",
   "execution_count": 38,
   "metadata": {
    "collapsed": false,
    "scrolled": true
   },
   "outputs": [
    {
     "name": "stdout",
     "output_type": "stream",
     "text": [
      "['mineral water'] --> ['chocolate']\n",
      "['chocolate'] --> ['mineral water']\n",
      "['mineral water'] --> ['eggs']\n",
      "['eggs'] --> ['mineral water']\n",
      "['chocolate'] --> ['mineral water']\n",
      "['mineral water'] --> ['chocolate']\n",
      "['eggs'] --> ['mineral water']\n",
      "['mineral water'] --> ['eggs']\n",
      "['spaghetti'] --> ['mineral water']\n",
      "['mineral water'] --> ['spaghetti']\n"
     ]
    }
   ],
   "source": [
    "freq_1 = freq_items1\n",
    "#print(freq_1)\n",
    "test1 = [ i for i in freq_1 if len(i) > 1]\n",
    "test = [ [i,[]] for i in test1]\n",
    "#for i in test:\n",
    "#    print(i)\n",
    "rules = []\n",
    "final_rules = []\n",
    "for i in test:\n",
    "    rules.append(createRules(i))\n",
    "#or i in range(len(rules)):\n",
    "#   print(rules[i])\n",
    "result_anticedent = []\n",
    "result_consequent = []\n",
    "for i in range(len(rules)):\n",
    "    if confidence(rules[i][0],rules[i][1]) >= minConfidence:\n",
    "        result_anticedent.append(rules[i][0])\n",
    "        result_consequent.append(rules[i][1])\n",
    "\n",
    "found = 1\n",
    "result_anticedent = []\n",
    "result_consequent = []\n",
    "temp = []\n",
    "while found:\n",
    "    found = 0\n",
    "    rules = []\n",
    "    temp = []\n",
    "    for i in range(len(test)):\n",
    "        rules = createRules(test[i])\n",
    "        for j in range(len(rules)):\n",
    "            if confidence(rules[j][0],rules[j][1]) >= minConfidence:\n",
    "                temp.append(rules[j])\n",
    "                result_anticedent.append(rules[j][0])\n",
    "                result_consequent.append(rules[j][1])\n",
    "                found = 1\n",
    "    test = temp\n",
    "\n",
    "#len(rules)\n",
    "#print(result_anticedent)\n",
    "#print(result_consequent)\n",
    "confidence(['mineral water'],['chocolate'])\n",
    "confidence(['chocolate'],['mineral water'])\n",
    "for i in range(len(result_anticedent)):\n",
    "    print(str(result_anticedent[i]) + \" --> \" + str(result_consequent[i]))"
   ]
  },
  {
   "cell_type": "code",
   "execution_count": 39,
   "metadata": {
    "collapsed": false
   },
   "outputs": [
    {
     "name": "stdout",
     "output_type": "stream",
     "text": [
      "0.220917225950783\n",
      "0.3213995117982099\n",
      "0.21364653243847875\n",
      "0.28338278931750743\n",
      "0.3213995117982099\n",
      "0.220917225950783\n",
      "0.28338278931750743\n",
      "0.21364653243847875\n",
      "0.3430321592649311\n",
      "0.2505592841163311\n"
     ]
    }
   ],
   "source": [
    "print(confidence(['mineral water'],['chocolate']))\n",
    "print(confidence(['chocolate'],['mineral water']))\n",
    "print(confidence(['mineral water'],['eggs']))\n",
    "print(confidence(['eggs'],['mineral water']))\n",
    "print(confidence(['chocolate'],['mineral water']))\n",
    "print(confidence(['mineral water'],['chocolate']))\n",
    "print(confidence(['eggs'],['mineral water']))\n",
    "print(confidence(['mineral water'],['eggs']))\n",
    "print(confidence(['spaghetti'],['mineral water']))\n",
    "print(confidence(['mineral water'],['spaghetti']))"
   ]
  },
  {
   "cell_type": "code",
   "execution_count": null,
   "metadata": {
    "collapsed": true
   },
   "outputs": [],
   "source": []
  }
 ],
 "metadata": {
  "anaconda-cloud": {},
  "kernelspec": {
   "display_name": "Python [Root]",
   "language": "python",
   "name": "Python [Root]"
  },
  "language_info": {
   "codemirror_mode": {
    "name": "ipython",
    "version": 3
   },
   "file_extension": ".py",
   "mimetype": "text/x-python",
   "name": "python",
   "nbconvert_exporter": "python",
   "pygments_lexer": "ipython3",
   "version": "3.5.4"
  }
 },
 "nbformat": 4,
 "nbformat_minor": 0
}
