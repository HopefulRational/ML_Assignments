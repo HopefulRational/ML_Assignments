{
 "cells": [
  {
   "cell_type": "code",
   "execution_count": 2,
   "metadata": {
    "collapsed": true
   },
   "outputs": [],
   "source": [
    "import numpy as np\n",
    "import pandas as pd"
   ]
  },
  {
   "cell_type": "code",
   "execution_count": 3,
   "metadata": {
    "collapsed": false
   },
   "outputs": [],
   "source": [
    "train_data_eq_prior = []\n",
    "test_data_eq_prior = []\n",
    "train_data_noneq_prior = []\n",
    "test_data_noneq_prior = []\n",
    "\n",
    "est_mean_eq_prior = [0,0,0,0,0]\n",
    "est_mean_noneq_prior = [0,0,0,0,0]\n",
    "est_var_eq_prior = [0,0,0,0,0]\n",
    "est_var_noneq_prior = [0,0,0,0,0]\n",
    "est_prior_eq_prior = [0,0,0,0,0]\n",
    "est_prior_noneq_prior = [0,0,0,0,0]\n",
    "train_count_eq_prior = [0,0,0,0,0]\n",
    "test_count_eq_prior = [0,0,0,0,0]\n",
    "train_count_noneq_prior = [0,0,0,0,0]\n",
    "test_count_noneq_prior = [0,0,0,0,0]\n",
    "\n",
    "mean = [0,10,5,20,15]\n",
    "var = [1,2,4,1.2,7]\n",
    "\n",
    "data1 = np.random.choice(5, 50000, p=[0.2,0.2,0.2,0.2,0.2])\n",
    "data2 = np.random.choice(5, 10000, p=[0.2,0.2,0.2,0.2,0.2])\n",
    "data3 = np.random.choice(5, 50000, p=[0.1,0.25,0.3,0.25,0.1])\n",
    "data4 = np.random.choice(5, 10000, p=[0.1,0.25,0.3,0.25,0.1])\n",
    "\n",
    "for i in range(50000):\n",
    "    train_data_eq_prior.append([np.random.normal(mean[data1[i]],var[data1[i]]), data1[i]])\n",
    "    train_data_noneq_prior.append([np.random.normal(mean[data3[i]],var[data3[i]]), data3[i]])\n",
    "    train_count_eq_prior[data1[i]] += 1\n",
    "    train_count_noneq_prior[data3[i]] += 1\n",
    "    \n",
    "\n",
    "for i in range(10000):\n",
    "    test_data_eq_prior.append([np.random.normal(mean[data2[i]],var[data2[i]]), data2[i]])\n",
    "    test_data_noneq_prior.append([np.random.normal(mean[data4[i]],var[data4[i]]), data4[i]])\n",
    "    test_count_eq_prior[data2[i]] += 1\n",
    "    test_count_noneq_prior[data4[i]] += 1\n"
   ]
  },
  {
   "cell_type": "code",
   "execution_count": 6,
   "metadata": {
    "collapsed": false
   },
   "outputs": [
    {
     "data": {
      "text/plain": [
       "[30535.36069120531,\n",
       " 120527.76602786433,\n",
       " 489013.2999957265,\n",
       " 43300.384368430845,\n",
       " 1449426.9966812413]"
      ]
     },
     "execution_count": 6,
     "metadata": {},
     "output_type": "execute_result"
    }
   ],
   "source": [
    "for i in range(50000):\n",
    "    est_mean_eq_prior[train_data_eq_prior[i][1]] += train_data_eq_prior[i][0]\n",
    "    est_mean_noneq_prior[train_data_noneq_prior[i][1]] += train_data_noneq_prior[i][0]\n",
    "    est_prior_eq_prior[train_data_eq_prior[i][1]] += 1\n",
    "    est_prior_noneq_prior[train_data_noneq_prior[i][1]] += 1\n",
    "\n",
    "for i in range(5):\n",
    "    est_mean_eq_prior[i] /= est_prior_eq_prior[i]\n",
    "    est_mean_noneq_prior[i] /= est_prior_noneq_prior[i]\n",
    "\n",
    "for i in range(50000):\n",
    "    est_var_eq_prior[train_data_eq_prior[i][1]] += (train_data_eq_prior[i][0]-est_mean_eq_prior[train_data_eq_prior[i][1]])*(train_data_eq_prior[i][0]-est_mean_eq_prior[train_data_eq_prior[i][1]])\n",
    "    est_var_noneq_prior[train_data_noneq_prior[i][1]] += (train_data_noneq_prior[i][0]-est_mean_noneq_prior[train_data_noneq_prior[i][1]])*(train_data_noneq_prior[i][0]-est_mean_noneq_prior[train_data_noneq_prior[i][1]])\n",
    "\n",
    "for i in range(5):\n",
    "    est_var_eq_prior[i]/est_prior_eq_prior[i]\n",
    "    est_var_noneq_prior[i]/est_prior_noneq_prior[i]\n",
    "    est_prior_eq_prior[i] /= 50000\n",
    "    est_prior_noneq_prior[i] /= 50000\n",
    "\n",
    "est_var_eq_prior\n"
   ]
  },
  {
   "cell_type": "code",
   "execution_count": 7,
   "metadata": {
    "collapsed": false
   },
   "outputs": [],
   "source": [
    "# equal priors and variances\n",
    "def makePred_eq_priors_eq_var(trainData,testData,est_mean):\n",
    "    pred_train = [None]*50000\n",
    "    pred_test = [None]*10000\n",
    "\n",
    "    for i in range(50000):\n",
    "        if i < 10000:\n",
    "            res = [abs(testData[i][0]-est_mean[0]),abs(testData[i][0]-est_mean[1]),abs(testData[i][0]-est_mean[2]),abs(testData[i][0]-est_mean[3]),abs(testData[i][0]-est_mean[4])]\n",
    "            res = res.index(min(res))\n",
    "            pred_test[i] = res\n",
    "        res = [abs(trainData[i][0]-est_mean[0]),abs(trainData[i][0]-est_mean[1]),abs(trainData[i][0]-est_mean[2]),abs(trainData[i][0]-est_mean[3]),abs(trainData[i][0]-est_mean[4])]\n",
    "        res = res.index(min(res))\n",
    "        pred_train[i] = res\n",
    "    return pred_train, pred_test"
   ]
  },
  {
   "cell_type": "code",
   "execution_count": 8,
   "metadata": {
    "collapsed": true
   },
   "outputs": [],
   "source": [
    "def calcAccuracy(trainLabel_DIST1,count_train,pred_train,testLabel_DIST1,count_test,pred_test):\n",
    "    train_accuracy = [0,0,0,0,0]\n",
    "    test_accuracy = [0,0,0,0,0]\n",
    "    for i in range(50000):\n",
    "        if i < 10000:\n",
    "            if testLabel_DIST1[i][1] == pred_test[i]:\n",
    "                test_accuracy[testLabel_DIST1[i][1]] += 1\n",
    "        if trainLabel_DIST1[i][1] == pred_train[i]:\n",
    "            train_accuracy[trainLabel_DIST1[i][1]] += 1\n",
    "\n",
    "    for i in range(5):\n",
    "        train_accuracy[i] /= count_train[i]\n",
    "        test_accuracy[i] /= count_test[i]\n",
    "    return train_accuracy, test_accuracy"
   ]
  },
  {
   "cell_type": "code",
   "execution_count": 9,
   "metadata": {
    "collapsed": true
   },
   "outputs": [],
   "source": [
    "# equal priors and estimated variances\n",
    "def makePred_eq_priors_est_var(trainData,testData,est_mean,est_var):\n",
    "    pred_train = [None]*50000\n",
    "    pred_test = [None]*10000\n",
    "\n",
    "    for i in range(50000):\n",
    "        if i < 10000:\n",
    "            res = [-np.log(np.sqrt(est_var[0])) - (np.power((testData[i][0] - est_mean[0]),2)/(2 * est_var[0])),\n",
    "                   -np.log(np.sqrt(est_var[0])) - (np.power((testData[i][0] - est_mean[1]),2)/(2 * est_var[1])),\n",
    "                   -np.log(np.sqrt(est_var[0])) - (np.power((testData[i][0] - est_mean[2]),2)/(2 * est_var[2])),\n",
    "                   -np.log(np.sqrt(est_var[0])) - (np.power((testData[i][0] - est_mean[3]),2)/(2 * est_var[3])),\n",
    "                   -np.log(np.sqrt(est_var[0])) - (np.power((testData[i][0] - est_mean[4]),2)/(2 * est_var[4]))]\n",
    "            res = res.index(max(res))\n",
    "            pred_test[i] = res\n",
    "        res = [-np.log(np.sqrt(est_var[0])) - (np.power((trainData[i][0] - est_mean[0]),2)/(2 * est_var[0])),\n",
    "               -np.log(np.sqrt(est_var[0])) - (np.power((trainData[i][0] - est_mean[1]),2)/(2 * est_var[1])),\n",
    "               -np.log(np.sqrt(est_var[0])) - (np.power((trainData[i][0] - est_mean[2]),2)/(2 * est_var[2])),\n",
    "               -np.log(np.sqrt(est_var[0])) - (np.power((trainData[i][0] - est_mean[3]),2)/(2 * est_var[3])),\n",
    "               -np.log(np.sqrt(est_var[0])) - (np.power((trainData[i][0] - est_mean[4]),2)/(2 * est_var[4]))]\n",
    "        res = res.index(max(res))\n",
    "        pred_train[i] = res\n",
    "    return pred_train, pred_test"
   ]
  },
  {
   "cell_type": "code",
   "execution_count": 10,
   "metadata": {
    "collapsed": true
   },
   "outputs": [],
   "source": [
    "# estimated priors and variances\n",
    "def makePred_est_priors_est_var(trainData,testData,est_mean,est_var,est_prior):\n",
    "    pred_train = [None]*50000\n",
    "    pred_test = [None]*10000\n",
    "\n",
    "    for i in range(50000):\n",
    "        if i < 10000:\n",
    "            res = [-np.log(np.sqrt(est_var[0])) - (np.power((testData[i][0] - est_mean[0]),2)/(2 * est_var[0])) + np.log(est_prior[0]),\n",
    "                   -np.log(np.sqrt(est_var[0])) - (np.power((testData[i][0] - est_mean[1]),2)/(2 * est_var[1]))+ np.log(est_prior[1]),\n",
    "                   -np.log(np.sqrt(est_var[0])) - (np.power((testData[i][0] - est_mean[2]),2)/(2 * est_var[2]))+ np.log(est_prior[2]),\n",
    "                   -np.log(np.sqrt(est_var[0])) - (np.power((testData[i][0] - est_mean[3]),2)/(2 * est_var[3]))+ np.log(est_prior[3]),\n",
    "                   -np.log(np.sqrt(est_var[0])) - (np.power((testData[i][0] - est_mean[4]),2)/(2 * est_var[4]))+ np.log(est_prior[4])]\n",
    "            res = res.index(max(res))\n",
    "            pred_test[i] = res\n",
    "        res = [-np.log(np.sqrt(est_var[0])) - (np.power((trainData[i][0] - est_mean[0]),2)/(2 * est_var[0]))+ np.log(est_prior[0]),\n",
    "               -np.log(np.sqrt(est_var[0])) - (np.power((trainData[i][0] - est_mean[1]),2)/(2 * est_var[1]))+ np.log(est_prior[1]),\n",
    "               -np.log(np.sqrt(est_var[0])) - (np.power((trainData[i][0] - est_mean[2]),2)/(2 * est_var[2]))+ np.log(est_prior[2]),\n",
    "               -np.log(np.sqrt(est_var[0])) - (np.power((trainData[i][0] - est_mean[3]),2)/(2 * est_var[3]))+ np.log(est_prior[3]),\n",
    "               -np.log(np.sqrt(est_var[0])) - (np.power((trainData[i][0] - est_mean[4]),2)/(2 * est_var[4]))+ np.log(est_prior[4])]\n",
    "        res = res.index(max(res))\n",
    "        pred_train[i] = res\n",
    "    return pred_train, pred_test"
   ]
  },
  {
   "cell_type": "code",
   "execution_count": 11,
   "metadata": {
    "collapsed": true
   },
   "outputs": [],
   "source": [
    "# estimated priors and equal variances\n",
    "def makePred_est_priors_eq_var(trainData,testData,est_mean,est_prior):\n",
    "    pred_train = [None]*50000\n",
    "    pred_test = [None]*10000\n",
    "\n",
    "    for i in range(50000):\n",
    "        if i < 10000:\n",
    "            res = [ - np.power((testData[i][0] - est_mean[0]),2) + np.log(est_prior[0]),\n",
    "                    - np.power((testData[i][0] - est_mean[1]),2)+ np.log(est_prior[1]),\n",
    "                    - np.power((testData[i][0] - est_mean[2]),2)+ np.log(est_prior[2]),\n",
    "                    - np.power((testData[i][0] - est_mean[3]),2)+ np.log(est_prior[3]),\n",
    "                    - np.power((testData[i][0] - est_mean[4]),2)+ np.log(est_prior[4])]\n",
    "            res = res.index(max(res))\n",
    "            pred_test[i] = res\n",
    "        res = [ - np.power((trainData[i][0] - est_mean[0]),2)+ np.log(est_prior[0]),\n",
    "                - np.power((trainData[i][0] - est_mean[1]),2)+ np.log(est_prior[1]),\n",
    "                - np.power((trainData[i][0] - est_mean[2]),2)+ np.log(est_prior[2]),\n",
    "                - np.power((trainData[i][0] - est_mean[3]),2)+ np.log(est_prior[3]),\n",
    "                - np.power((trainData[i][0] - est_mean[4]),2)+ np.log(est_prior[4])]\n",
    "        res = res.index(max(res))\n",
    "        pred_train[i] = res\n",
    "    return pred_train, pred_test"
   ]
  },
  {
   "cell_type": "code",
   "execution_count": 12,
   "metadata": {
    "collapsed": false
   },
   "outputs": [],
   "source": [
    "pred_train, pred_test = makePred_eq_priors_eq_var(train_data_eq_prior,test_data_eq_prior,est_mean_eq_prior)\n",
    "result1 = calcAccuracy(train_data_eq_prior,train_count_eq_prior,pred_train,test_data_eq_prior,test_count_eq_prior,pred_test)"
   ]
  },
  {
   "cell_type": "code",
   "execution_count": 13,
   "metadata": {
    "collapsed": false
   },
   "outputs": [],
   "source": [
    "pred_train, pred_test = makePred_eq_priors_est_var(train_data_eq_prior,test_data_eq_prior,est_mean_eq_prior,est_var_eq_prior)\n",
    "result2 = calcAccuracy(train_data_eq_prior,train_count_eq_prior,pred_train,test_data_eq_prior,test_count_eq_prior,pred_test)"
   ]
  },
  {
   "cell_type": "code",
   "execution_count": 14,
   "metadata": {
    "collapsed": false
   },
   "outputs": [],
   "source": [
    "pred_train, pred_test = makePred_est_priors_est_var(train_data_eq_prior,test_data_eq_prior,est_mean_eq_prior,est_var_eq_prior,est_prior_eq_prior)\n",
    "result3 = calcAccuracy(train_data_eq_prior,train_count_eq_prior,pred_train,test_data_eq_prior,test_count_eq_prior,pred_test)"
   ]
  },
  {
   "cell_type": "code",
   "execution_count": 15,
   "metadata": {
    "collapsed": false
   },
   "outputs": [],
   "source": [
    "pred_train, pred_test = makePred_est_priors_eq_var(train_data_eq_prior,test_data_eq_prior,est_mean_eq_prior,est_var_eq_prior)\n",
    "result4 = calcAccuracy(train_data_eq_prior,train_count_eq_prior,pred_train,test_data_eq_prior,test_count_eq_prior,pred_test)"
   ]
  },
  {
   "cell_type": "code",
   "execution_count": 16,
   "metadata": {
    "collapsed": false
   },
   "outputs": [
    {
     "name": "stdout",
     "output_type": "stream",
     "text": [
      "train data with equal priors\n"
     ]
    },
    {
     "data": {
      "text/html": [
       "<div>\n",
       "<style scoped>\n",
       "    .dataframe tbody tr th:only-of-type {\n",
       "        vertical-align: middle;\n",
       "    }\n",
       "\n",
       "    .dataframe tbody tr th {\n",
       "        vertical-align: top;\n",
       "    }\n",
       "\n",
       "    .dataframe thead th {\n",
       "        text-align: right;\n",
       "    }\n",
       "</style>\n",
       "<table border=\"1\" class=\"dataframe\">\n",
       "  <thead>\n",
       "    <tr style=\"text-align: right;\">\n",
       "      <th></th>\n",
       "      <th>eq_pr_eq_var</th>\n",
       "      <th>eq_pr_est_var</th>\n",
       "      <th>est_pr_eq_var</th>\n",
       "      <th>est_pr_est_var</th>\n",
       "    </tr>\n",
       "  </thead>\n",
       "  <tbody>\n",
       "    <tr>\n",
       "      <th>0</th>\n",
       "      <td>0.993913</td>\n",
       "      <td>0.787867</td>\n",
       "      <td>0.987029</td>\n",
       "      <td>0.0</td>\n",
       "    </tr>\n",
       "    <tr>\n",
       "      <th>1</th>\n",
       "      <td>0.781047</td>\n",
       "      <td>0.505412</td>\n",
       "      <td>0.742472</td>\n",
       "      <td>1.0</td>\n",
       "    </tr>\n",
       "    <tr>\n",
       "      <th>2</th>\n",
       "      <td>0.465121</td>\n",
       "      <td>0.685593</td>\n",
       "      <td>0.494451</td>\n",
       "      <td>0.0</td>\n",
       "    </tr>\n",
       "    <tr>\n",
       "      <th>3</th>\n",
       "      <td>0.982224</td>\n",
       "      <td>0.546308</td>\n",
       "      <td>0.968185</td>\n",
       "      <td>0.0</td>\n",
       "    </tr>\n",
       "    <tr>\n",
       "      <th>4</th>\n",
       "      <td>0.275883</td>\n",
       "      <td>0.627507</td>\n",
       "      <td>0.308154</td>\n",
       "      <td>0.0</td>\n",
       "    </tr>\n",
       "  </tbody>\n",
       "</table>\n",
       "</div>"
      ],
      "text/plain": [
       "   eq_pr_eq_var  eq_pr_est_var  est_pr_eq_var  est_pr_est_var\n",
       "0      0.993913       0.787867       0.987029             0.0\n",
       "1      0.781047       0.505412       0.742472             1.0\n",
       "2      0.465121       0.685593       0.494451             0.0\n",
       "3      0.982224       0.546308       0.968185             0.0\n",
       "4      0.275883       0.627507       0.308154             0.0"
      ]
     },
     "execution_count": 16,
     "metadata": {},
     "output_type": "execute_result"
    }
   ],
   "source": [
    "table = pd.DataFrame({\"eq_pr_eq_var\":result1[0],\n",
    "                      \"eq_pr_est_var\":result2[0],\n",
    "                      \"est_pr_est_var\":result3[0],\n",
    "                      \"est_pr_eq_var\":result4[0]})\n",
    "print(\"train data with equal priors\")\n",
    "table"
   ]
  },
  {
   "cell_type": "code",
   "execution_count": 17,
   "metadata": {
    "collapsed": false
   },
   "outputs": [
    {
     "name": "stdout",
     "output_type": "stream",
     "text": [
      "test data with equal priors\n"
     ]
    },
    {
     "data": {
      "text/html": [
       "<div>\n",
       "<style scoped>\n",
       "    .dataframe tbody tr th:only-of-type {\n",
       "        vertical-align: middle;\n",
       "    }\n",
       "\n",
       "    .dataframe tbody tr th {\n",
       "        vertical-align: top;\n",
       "    }\n",
       "\n",
       "    .dataframe thead th {\n",
       "        text-align: right;\n",
       "    }\n",
       "</style>\n",
       "<table border=\"1\" class=\"dataframe\">\n",
       "  <thead>\n",
       "    <tr style=\"text-align: right;\">\n",
       "      <th></th>\n",
       "      <th>eq_pr_eq_var</th>\n",
       "      <th>eq_pr_est_var</th>\n",
       "      <th>est_pr_eq_var</th>\n",
       "      <th>est_pr_est_var</th>\n",
       "    </tr>\n",
       "  </thead>\n",
       "  <tbody>\n",
       "    <tr>\n",
       "      <th>0</th>\n",
       "      <td>0.992890</td>\n",
       "      <td>0.800406</td>\n",
       "      <td>0.988827</td>\n",
       "      <td>0.0</td>\n",
       "    </tr>\n",
       "    <tr>\n",
       "      <th>1</th>\n",
       "      <td>0.771127</td>\n",
       "      <td>0.498994</td>\n",
       "      <td>0.721831</td>\n",
       "      <td>1.0</td>\n",
       "    </tr>\n",
       "    <tr>\n",
       "      <th>2</th>\n",
       "      <td>0.468975</td>\n",
       "      <td>0.684945</td>\n",
       "      <td>0.498316</td>\n",
       "      <td>0.0</td>\n",
       "    </tr>\n",
       "    <tr>\n",
       "      <th>3</th>\n",
       "      <td>0.987406</td>\n",
       "      <td>0.545592</td>\n",
       "      <td>0.970277</td>\n",
       "      <td>0.0</td>\n",
       "    </tr>\n",
       "    <tr>\n",
       "      <th>4</th>\n",
       "      <td>0.273370</td>\n",
       "      <td>0.617484</td>\n",
       "      <td>0.305205</td>\n",
       "      <td>0.0</td>\n",
       "    </tr>\n",
       "  </tbody>\n",
       "</table>\n",
       "</div>"
      ],
      "text/plain": [
       "   eq_pr_eq_var  eq_pr_est_var  est_pr_eq_var  est_pr_est_var\n",
       "0      0.992890       0.800406       0.988827             0.0\n",
       "1      0.771127       0.498994       0.721831             1.0\n",
       "2      0.468975       0.684945       0.498316             0.0\n",
       "3      0.987406       0.545592       0.970277             0.0\n",
       "4      0.273370       0.617484       0.305205             0.0"
      ]
     },
     "execution_count": 17,
     "metadata": {},
     "output_type": "execute_result"
    }
   ],
   "source": [
    "table = pd.DataFrame({\"eq_pr_eq_var\":result1[1],\n",
    "                      \"eq_pr_est_var\":result2[1],\n",
    "                      \"est_pr_est_var\":result3[1],\n",
    "                      \"est_pr_eq_var\":result4[1]})\n",
    "print(\"test data with equal priors\")\n",
    "table"
   ]
  },
  {
   "cell_type": "code",
   "execution_count": null,
   "metadata": {
    "collapsed": true
   },
   "outputs": [],
   "source": []
  },
  {
   "cell_type": "code",
   "execution_count": 18,
   "metadata": {
    "collapsed": false
   },
   "outputs": [],
   "source": [
    "pred_train, pred_test = makePred_eq_priors_eq_var(train_data_noneq_prior,test_data_noneq_prior,est_mean_noneq_prior)\n",
    "result1 = calcAccuracy(train_data_noneq_prior,train_count_noneq_prior,pred_train,test_data_noneq_prior,test_count_noneq_prior,pred_test)"
   ]
  },
  {
   "cell_type": "code",
   "execution_count": 19,
   "metadata": {
    "collapsed": false
   },
   "outputs": [],
   "source": [
    "pred_train, pred_test = makePred_eq_priors_est_var(train_data_noneq_prior,test_data_noneq_prior,est_mean_noneq_prior,est_var_noneq_prior)\n",
    "result2 = calcAccuracy(train_data_noneq_prior,train_count_noneq_prior,pred_train,test_data_noneq_prior,test_count_noneq_prior,pred_test)"
   ]
  },
  {
   "cell_type": "code",
   "execution_count": 20,
   "metadata": {
    "collapsed": false
   },
   "outputs": [],
   "source": [
    "pred_train, pred_test = makePred_est_priors_est_var(train_data_noneq_prior,test_data_noneq_prior,est_mean_noneq_prior,est_var_noneq_prior,est_prior_noneq_prior)\n",
    "result3 = calcAccuracy(train_data_noneq_prior,train_count_noneq_prior,pred_train,test_data_noneq_prior,test_count_noneq_prior,pred_test)"
   ]
  },
  {
   "cell_type": "code",
   "execution_count": 21,
   "metadata": {
    "collapsed": false
   },
   "outputs": [],
   "source": [
    "pred_train, pred_test = makePred_est_priors_eq_var(train_data_noneq_prior,test_data_noneq_prior,est_mean_noneq_prior,est_var_noneq_prior)\n",
    "result4 = calcAccuracy(train_data_noneq_prior,train_count_noneq_prior,pred_train,test_data_noneq_prior,test_count_noneq_prior,pred_test)"
   ]
  },
  {
   "cell_type": "code",
   "execution_count": 22,
   "metadata": {
    "collapsed": false
   },
   "outputs": [
    {
     "name": "stdout",
     "output_type": "stream",
     "text": [
      "train data with unequal priors\n"
     ]
    },
    {
     "data": {
      "text/html": [
       "<div>\n",
       "<style scoped>\n",
       "    .dataframe tbody tr th:only-of-type {\n",
       "        vertical-align: middle;\n",
       "    }\n",
       "\n",
       "    .dataframe tbody tr th {\n",
       "        vertical-align: top;\n",
       "    }\n",
       "\n",
       "    .dataframe thead th {\n",
       "        text-align: right;\n",
       "    }\n",
       "</style>\n",
       "<table border=\"1\" class=\"dataframe\">\n",
       "  <thead>\n",
       "    <tr style=\"text-align: right;\">\n",
       "      <th></th>\n",
       "      <th>eq_pr_eq_var</th>\n",
       "      <th>eq_pr_est_var</th>\n",
       "      <th>est_pr_eq_var</th>\n",
       "      <th>est_pr_est_var</th>\n",
       "    </tr>\n",
       "  </thead>\n",
       "  <tbody>\n",
       "    <tr>\n",
       "      <th>0</th>\n",
       "      <td>0.993188</td>\n",
       "      <td>0.540773</td>\n",
       "      <td>0.981767</td>\n",
       "      <td>0.0</td>\n",
       "    </tr>\n",
       "    <tr>\n",
       "      <th>1</th>\n",
       "      <td>0.792058</td>\n",
       "      <td>0.562035</td>\n",
       "      <td>0.759220</td>\n",
       "      <td>0.0</td>\n",
       "    </tr>\n",
       "    <tr>\n",
       "      <th>2</th>\n",
       "      <td>0.470279</td>\n",
       "      <td>0.740637</td>\n",
       "      <td>0.514128</td>\n",
       "      <td>1.0</td>\n",
       "    </tr>\n",
       "    <tr>\n",
       "      <th>3</th>\n",
       "      <td>0.979317</td>\n",
       "      <td>0.760678</td>\n",
       "      <td>0.966875</td>\n",
       "      <td>0.0</td>\n",
       "    </tr>\n",
       "    <tr>\n",
       "      <th>4</th>\n",
       "      <td>0.293625</td>\n",
       "      <td>0.571116</td>\n",
       "      <td>0.315339</td>\n",
       "      <td>0.0</td>\n",
       "    </tr>\n",
       "  </tbody>\n",
       "</table>\n",
       "</div>"
      ],
      "text/plain": [
       "   eq_pr_eq_var  eq_pr_est_var  est_pr_eq_var  est_pr_est_var\n",
       "0      0.993188       0.540773       0.981767             0.0\n",
       "1      0.792058       0.562035       0.759220             0.0\n",
       "2      0.470279       0.740637       0.514128             1.0\n",
       "3      0.979317       0.760678       0.966875             0.0\n",
       "4      0.293625       0.571116       0.315339             0.0"
      ]
     },
     "execution_count": 22,
     "metadata": {},
     "output_type": "execute_result"
    }
   ],
   "source": [
    "table = pd.DataFrame({\"eq_pr_eq_var\":result1[0],\n",
    "                      \"eq_pr_est_var\":result2[0],\n",
    "                      \"est_pr_est_var\":result3[0],\n",
    "                      \"est_pr_eq_var\":result4[0]})\n",
    "print(\"train data with unequal priors\")\n",
    "table"
   ]
  },
  {
   "cell_type": "code",
   "execution_count": 23,
   "metadata": {
    "collapsed": false
   },
   "outputs": [
    {
     "name": "stdout",
     "output_type": "stream",
     "text": [
      "test data with unequal priors\n"
     ]
    },
    {
     "data": {
      "text/html": [
       "<div>\n",
       "<style scoped>\n",
       "    .dataframe tbody tr th:only-of-type {\n",
       "        vertical-align: middle;\n",
       "    }\n",
       "\n",
       "    .dataframe tbody tr th {\n",
       "        vertical-align: top;\n",
       "    }\n",
       "\n",
       "    .dataframe thead th {\n",
       "        text-align: right;\n",
       "    }\n",
       "</style>\n",
       "<table border=\"1\" class=\"dataframe\">\n",
       "  <thead>\n",
       "    <tr style=\"text-align: right;\">\n",
       "      <th></th>\n",
       "      <th>eq_pr_eq_var</th>\n",
       "      <th>eq_pr_est_var</th>\n",
       "      <th>est_pr_eq_var</th>\n",
       "      <th>est_pr_est_var</th>\n",
       "    </tr>\n",
       "  </thead>\n",
       "  <tbody>\n",
       "    <tr>\n",
       "      <th>0</th>\n",
       "      <td>0.994186</td>\n",
       "      <td>0.536822</td>\n",
       "      <td>0.983527</td>\n",
       "      <td>0.0</td>\n",
       "    </tr>\n",
       "    <tr>\n",
       "      <th>1</th>\n",
       "      <td>0.786640</td>\n",
       "      <td>0.570040</td>\n",
       "      <td>0.759919</td>\n",
       "      <td>0.0</td>\n",
       "    </tr>\n",
       "    <tr>\n",
       "      <th>2</th>\n",
       "      <td>0.473046</td>\n",
       "      <td>0.736523</td>\n",
       "      <td>0.515499</td>\n",
       "      <td>1.0</td>\n",
       "    </tr>\n",
       "    <tr>\n",
       "      <th>3</th>\n",
       "      <td>0.987595</td>\n",
       "      <td>0.765106</td>\n",
       "      <td>0.971589</td>\n",
       "      <td>0.0</td>\n",
       "    </tr>\n",
       "    <tr>\n",
       "      <th>4</th>\n",
       "      <td>0.280310</td>\n",
       "      <td>0.533463</td>\n",
       "      <td>0.303589</td>\n",
       "      <td>0.0</td>\n",
       "    </tr>\n",
       "  </tbody>\n",
       "</table>\n",
       "</div>"
      ],
      "text/plain": [
       "   eq_pr_eq_var  eq_pr_est_var  est_pr_eq_var  est_pr_est_var\n",
       "0      0.994186       0.536822       0.983527             0.0\n",
       "1      0.786640       0.570040       0.759919             0.0\n",
       "2      0.473046       0.736523       0.515499             1.0\n",
       "3      0.987595       0.765106       0.971589             0.0\n",
       "4      0.280310       0.533463       0.303589             0.0"
      ]
     },
     "execution_count": 23,
     "metadata": {},
     "output_type": "execute_result"
    }
   ],
   "source": [
    "table = pd.DataFrame({\"eq_pr_eq_var\":result1[1],\n",
    "                      \"eq_pr_est_var\":result2[1],\n",
    "                      \"est_pr_est_var\":result3[1],\n",
    "                      \"est_pr_eq_var\":result4[1]})\n",
    "print(\"test data with unequal priors\")\n",
    "table"
   ]
  },
  {
   "cell_type": "code",
   "execution_count": null,
   "metadata": {
    "collapsed": true
   },
   "outputs": [],
   "source": []
  },
  {
   "cell_type": "code",
   "execution_count": null,
   "metadata": {
    "collapsed": true
   },
   "outputs": [],
   "source": []
  }
 ],
 "metadata": {
  "anaconda-cloud": {},
  "kernelspec": {
   "display_name": "Python [Root]",
   "language": "python",
   "name": "Python [Root]"
  },
  "language_info": {
   "codemirror_mode": {
    "name": "ipython",
    "version": 3
   },
   "file_extension": ".py",
   "mimetype": "text/x-python",
   "name": "python",
   "nbconvert_exporter": "python",
   "pygments_lexer": "ipython3",
   "version": "3.5.4"
  }
 },
 "nbformat": 4,
 "nbformat_minor": 0
}
