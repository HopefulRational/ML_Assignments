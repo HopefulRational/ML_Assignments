{
 "cells": [
  {
   "cell_type": "code",
   "execution_count": 2,
   "metadata": {},
   "outputs": [],
   "source": [
    "import numpy as np\n",
    "import pandas as pd"
   ]
  },
  {
   "cell_type": "code",
   "execution_count": 3,
   "metadata": {},
   "outputs": [
    {
     "name": "stderr",
     "output_type": "stream",
     "text": [
      "/home/ankit/yes/lib/python3.6/site-packages/ipykernel_launcher.py:28: RuntimeWarning: covariance is not positive-semidefinite.\n",
      "/home/ankit/yes/lib/python3.6/site-packages/ipykernel_launcher.py:27: RuntimeWarning: covariance is not positive-semidefinite.\n",
      "/home/ankit/yes/lib/python3.6/site-packages/ipykernel_launcher.py:33: RuntimeWarning: covariance is not positive-semidefinite.\n",
      "/home/ankit/yes/lib/python3.6/site-packages/ipykernel_launcher.py:34: RuntimeWarning: covariance is not positive-semidefinite.\n"
     ]
    }
   ],
   "source": [
    "train_data_eq_prior = []\n",
    "test_data_eq_prior = []\n",
    "train_data_noneq_prior = []\n",
    "test_data_noneq_prior = []\n",
    "\n",
    "est_mean_eq_prior = [[0,0],[0,0]]\n",
    "est_mean_noneq_prior = [[0,0],[0,0]]\n",
    "est_var_eq_prior = [[[0,0],[0,0]],[[0,0],[0,0]]]\n",
    "est_var_noneq_prior = [[[0,0],[0,0]],[[0,0],[0,0]]]\n",
    "est_prior_eq_prior = [0,0]\n",
    "est_prior_noneq_prior = [0,0]\n",
    "train_count_eq_prior = [0,0]\n",
    "test_count_eq_prior = [0,0]\n",
    "train_count_noneq_prior = [0,0]\n",
    "test_count_noneq_prior = [0,0]\n",
    "\n",
    "\n",
    "mean = [[0.1,0.8],[0.5,0.2]]\n",
    "covar = [[[1,0],[0,1]],[[1, 1.5],[0, -1 ]]]\n",
    "\n",
    "data1 = np.random.choice(2, 50000, p=[0.5,0.5])\n",
    "data2 = np.random.choice(2, 10000, p=[0.5,0.5])\n",
    "data3 = np.random.choice(2, 50000, p=[0.2,0.8])\n",
    "data4 = np.random.choice(2, 10000, p=[0.2,0.8])\n",
    "\n",
    "for i in range(50000):\n",
    "    train_data_eq_prior.append([np.random.multivariate_normal(mean[data1[i]],covar[data1[i]]),data1[i]])\n",
    "    train_data_noneq_prior.append([np.random.multivariate_normal(mean[data3[i]],covar[data3[i]]),data3[i]])\n",
    "    train_count_eq_prior[data1[i]]+= 1\n",
    "    train_count_noneq_prior[data3[i]] += 1\n",
    "\n",
    "for i in range(10000):\n",
    "    test_data_eq_prior.append([np.random.multivariate_normal(mean[data2[i]],covar[data2[i]]),data2[i]])\n",
    "    test_data_noneq_prior.append([np.random.multivariate_normal(mean[data4[i]],covar[data4[i]]),data4[i]])\n",
    "    test_count_eq_prior[data2[i]]+= 1\n",
    "    test_count_noneq_prior[data4[i]] += 1\n",
    "\n",
    "\n",
    "for i in range(50000):\n",
    "    est_mean_eq_prior[train_data_eq_prior[i][1]] += train_data_eq_prior[i][0]\n",
    "    est_mean_noneq_prior[train_data_noneq_prior[i][1]] += train_data_noneq_prior[i][0]\n",
    "    est_prior_eq_prior[train_data_eq_prior[i][1]] += 1\n",
    "    est_prior_noneq_prior[train_data_noneq_prior[i][1]] += 1\n",
    "\n",
    "for i in range(2):\n",
    "    est_mean_eq_prior[i] /= est_prior_eq_prior[i]\n",
    "    est_mean_noneq_prior[i] /= est_prior_noneq_prior[i]\n",
    "\n",
    "for i in range(50000):\n",
    "    mat1 = np.matrix((train_data_eq_prior[i][0]-est_mean_eq_prior[train_data_eq_prior[i][1]]))\n",
    "    est_var_eq_prior[train_data_eq_prior[i][1]] += np.matmul(mat1.transpose(),mat1)\n",
    "    mat2 = np.matrix((train_data_noneq_prior[i][0]-est_mean_noneq_prior[train_data_noneq_prior[i][1]]))\n",
    "    est_var_noneq_prior[train_data_noneq_prior[i][1]] += np.matmul(mat2.transpose(),mat2)\n",
    "\n",
    "for i in range(2):\n",
    "    est_var_eq_prior[i] /= est_prior_eq_prior[i]\n",
    "    est_var_noneq_prior[i] /= est_prior_noneq_prior[i]\n",
    "    est_prior_eq_prior[i] /= 50000\n",
    "    est_prior_noneq_prior[i] /= 50000"
   ]
  },
  {
   "cell_type": "code",
   "execution_count": 4,
   "metadata": {},
   "outputs": [],
   "source": [
    "# equal priors and variances\n",
    "def makePred_eq_priors_eq_var(trainData,testData,est_mean):\n",
    "    pred_train = [None]*50000\n",
    "    pred_test = [None]*10000\n",
    "\n",
    "    for i in range(50000):\n",
    "        if i < 10000:\n",
    "            mat1 = np.matrix(testData[i][0])\n",
    "            res = [est_mean[0]*mat1.transpose() - np.linalg.norm(est_mean[0])/2, est_mean[1]*mat1.transpose() - np.linalg.norm(est_mean[1])/2]\n",
    "            res = res.index(max(list(res)))\n",
    "            pred_test[i] = res\n",
    "        mat1 = np.matrix(trainData[i][0])\n",
    "        res = [est_mean[0]*mat1.transpose() - np.linalg.norm(est_mean[0])/2, est_mean[1]*mat1.transpose() - np.linalg.norm(est_mean[1])/2]\n",
    "        res = res.index(max(list(res)))\n",
    "        pred_train[i] = res\n",
    "    return pred_train, pred_test"
   ]
  },
  {
   "cell_type": "code",
   "execution_count": 12,
   "metadata": {},
   "outputs": [],
   "source": [
    "# estimated priors and variances\n",
    "# can improve using the associativity of matrix multiplication\n",
    "def makePred_est_priors_est_var(trainData,testData,est_mean,est_covar,est_prior):\n",
    "    pred_train = [None]*50000\n",
    "    pred_test = [None]*10000\n",
    "\n",
    "    for i in range(50000):\n",
    "        m_0 = np.matrix(est_mean[0])\n",
    "        m_1 = np.matrix(est_mean[1])\n",
    "        S_0 = np.matrix(est_covar[0])\n",
    "        S_1 = np.matrix(est_covar[1])\n",
    "        if i < 10000:\n",
    "            mat1 = np.matrix(testData[i][0])\n",
    "            r1 = np.matmul(np.matmul(mat1,np.linalg.inv(S_0)),mat1.transpose())\n",
    "            r2 = 2*np.matmul(np.matmul(mat1,np.linalg.inv(S_0)),m_0.transpose())\n",
    "            r3 = np.matmul(np.matmul(m_0,np.linalg.inv(S_0)),m_0.transpose())\n",
    "            r4 = np.matmul(np.matmul(mat1,np.linalg.inv(S_1)),mat1.transpose())\n",
    "            r5 = 2*np.matmul(np.matmul(mat1,np.linalg.inv(S_1)),m_1.transpose())\n",
    "            r6 = np.matmul(np.matmul(m_1,np.linalg.inv(S_1)),m_1.transpose())\n",
    "            res = [-np.log(np.linalg.det(S_0))/2 - (r1-r2+r3)/2 + np.log(est_prior[0]),\n",
    "                   -np.log(np.linalg.det(S_1))/2 - (r4-r5+r6)/2 + np.log(est_prior[1])]\n",
    "            res = res.index(max(list(res)))\n",
    "            pred_test[i] = res\n",
    "            \n",
    "        mat1 = np.matrix(trainData[i][0])\n",
    "        r1 = np.matmul(np.matmul(mat1,np.linalg.inv(S_0)),mat1.transpose())\n",
    "        r2 = 2*np.matmul(np.matmul(mat1,np.linalg.inv(S_0)),m_0.transpose())\n",
    "        r3 = np.matmul(np.matmul(m_0,np.linalg.inv(S_0)),m_0.transpose())\n",
    "        r4 = np.matmul(np.matmul(mat1,np.linalg.inv(S_1)),mat1.transpose())\n",
    "        r5 = 2*np.matmul(np.matmul(mat1,np.linalg.inv(S_1)),m_1.transpose())\n",
    "        r6 = np.matmul(np.matmul(m_1,np.linalg.inv(S_1)),m_1.transpose())\n",
    "        res = [-np.log(np.linalg.det(S_0))/2 - (r1-r2+r3)/2 + np.log(est_prior[0]),\n",
    "               -np.log(np.linalg.det(S_1))/2 - (r4-r5+r6)/2 + np.log(est_prior[1])]\n",
    "        \n",
    "        #print(\"RES: \",list(res))\n",
    "        res = res.index(max(list(res)))\n",
    "        \n",
    "        pred_train[i] = res\n",
    "    return pred_train, pred_test "
   ]
  },
  {
   "cell_type": "code",
   "execution_count": 6,
   "metadata": {},
   "outputs": [
    {
     "name": "stdout",
     "output_type": "stream",
     "text": [
      "[[0.89624293 0.30425097]\n",
      " [0.30425097 1.35331479]]\n",
      "[[0.84107272 0.48314655]\n",
      " [0.48314655 1.56258203]]\n"
     ]
    }
   ],
   "source": [
    "common_covar_eq_prior = [[0,0],[0,0]]\n",
    "common_covar_noneq_prior = [[0,0],[0,0]]\n",
    "for i in range(len(covar)):\n",
    "    common_covar_eq_prior += est_prior_eq_prior[i]*est_var_eq_prior[i]\n",
    "    common_covar_noneq_prior += est_prior_noneq_prior[i]*est_var_noneq_prior[i]\n",
    "\n",
    "print(common_covar_eq_prior)\n",
    "print(common_covar_noneq_prior)"
   ]
  },
  {
   "cell_type": "code",
   "execution_count": 5,
   "metadata": {},
   "outputs": [],
   "source": [
    "# using common covariance and estimated priors\n",
    "def makePred_common_covar_est_prior(trainData,testData,est_mean,com_covar,est_prior):\n",
    "    pred_train = [None]*50000\n",
    "    pred_test = [None]*10000\n",
    "\n",
    "    for i in range(50000):\n",
    "        m_0 = np.matrix(est_mean[0])\n",
    "        m_1 = np.matrix(est_mean[1])\n",
    "        S = np.matrix(com_covar)\n",
    "        if i < 10000:\n",
    "            mat1 = np.matrix(testData[i][0])\n",
    "            r2 = 2*np.matmul(np.matmul(mat1,np.linalg.inv(S)),m_0.transpose())\n",
    "            r3 = np.matmul(np.matmul(m_0,np.linalg.inv(S)),m_0.transpose())\n",
    "            r5 = 2*np.matmul(np.matmul(mat1,np.linalg.inv(S)),m_1.transpose())\n",
    "            r6 = np.matmul(np.matmul(m_1,np.linalg.inv(S)),m_1.transpose())\n",
    "            res = [- (-r2+r3)/2 + np.log(est_prior[0]), - (-r5+r6)/2 + np.log(est_prior[1])]\n",
    "            res = res.index(max(list(res)))\n",
    "            pred_test[i] = res\n",
    "            \n",
    "        mat1 = np.matrix(trainData[i][0])\n",
    "        r2 = 2*np.matmul(np.matmul(mat1,np.linalg.inv(S)),m_0.transpose())\n",
    "        r3 = np.matmul(np.matmul(m_0,np.linalg.inv(S)),m_0.transpose())\n",
    "        r5 = 2*np.matmul(np.matmul(mat1,np.linalg.inv(S)),m_1.transpose())\n",
    "        r6 = np.matmul(np.matmul(m_1,np.linalg.inv(S)),m_1.transpose())\n",
    "        res = [-(-r2+r3)/2 + np.log(est_prior[0]), -(-r5+r6)/2 + np.log(est_prior[1])]\n",
    "        res = res.index(max(list(res)))\n",
    "        pred_train[i] = res\n",
    "    return pred_train, pred_test  "
   ]
  },
  {
   "cell_type": "code",
   "execution_count": 10,
   "metadata": {},
   "outputs": [],
   "source": [
    "def calcAccuracy(trainLabel_DIST1,count_train,pred_train,testLabel_DIST1,count_test,pred_test):\n",
    "    train_accuracy = [0,0]\n",
    "    test_accuracy = [0,0]\n",
    "    for i in range(50000):\n",
    "        if i < 10000:\n",
    "            if testLabel_DIST1[i][1] == pred_test[i]:\n",
    "                test_accuracy[testLabel_DIST1[i][1]] += 1\n",
    "        if trainLabel_DIST1[i][1] == pred_train[i]:\n",
    "            train_accuracy[trainLabel_DIST1[i][1]] += 1\n",
    "\n",
    "    for i in range(2):\n",
    "        train_accuracy[i] /= count_train[i]\n",
    "        test_accuracy[i] /= count_test[i]\n",
    "    return train_accuracy, test_accuracy"
   ]
  },
  {
   "cell_type": "code",
   "execution_count": 6,
   "metadata": {},
   "outputs": [],
   "source": [
    "# Naive-Bayes Classifier\n",
    "def makePred_naive_bayes(trainData,testData,est_mean,est_covar,est_prior):\n",
    "    pred_train = [None]*50000\n",
    "    pred_test = [None]*10000\n",
    "\n",
    "    for i in range(50000):\n",
    "        if i < 10000:\n",
    "            res = [0,0]\n",
    "            for j in range(2):\n",
    "                tmp = 0\n",
    "                for k in range(2):\n",
    "                    tmp += np.power((testData[i][0][k]-est_mean[j][k]),2)/est_covar[k,k]\n",
    "                res[j] += -tmp/2 + np.log(est_prior[j])\n",
    "            res = res.index(max(list(res)))\n",
    "            pred_test[i] = res\n",
    "            \n",
    "        res = [0,0]\n",
    "        for j in range(2):\n",
    "            tmp = 0\n",
    "            for k in range(2):\n",
    "                tmp += np.power((trainData[i][0][k]-est_mean[j][k]),2)/est_covar[k,k]\n",
    "            res[j] += -tmp/2 + np.log(est_prior[j])\n",
    "        res = res.index(max(list(res)))\n",
    "        pred_train[i] = res\n",
    "    return pred_train, pred_test  "
   ]
  },
  {
   "cell_type": "code",
   "execution_count": 10,
   "metadata": {},
   "outputs": [],
   "source": [
    "# equal variances est. priors\n",
    "def makePred_est_priors_eq_Allvar(trainData,testData,est_mean,var,est_prior):\n",
    "    pred_train = [None]*50000\n",
    "    pred_test = [None]*10000\n",
    "    mean0 = np.matrix(est_mean[0])\n",
    "    mean1 = np.matrix(est_mean[1])\n",
    "\n",
    "    for i in range(50000):\n",
    "        if i < 10000:\n",
    "            mat1 = np.matrix(testData[i][0])\n",
    "            res = [-np.linalg.norm(mat1-mean0)/(2*var)+np.log(est_prior[0]), -np.linalg.norm(mat1-mean1)/(2*var) + np.log(est_prior[1])]\n",
    "            res = res.index(max(list(res)))\n",
    "            pred_test[i] = res\n",
    "        mat1 = np.matrix(trainData[i][0])\n",
    "        res = [-np.linalg.norm(mat1-mean0)/(2*var)+np.log(est_prior[0]), -np.linalg.norm(mat1-mean1)/(2*var) + np.log(est_prior[1])]\n",
    "        res = res.index(max(list(res)))\n",
    "        pred_train[i] = res\n",
    "    return pred_train, pred_test"
   ]
  },
  {
   "cell_type": "code",
   "execution_count": 11,
   "metadata": {},
   "outputs": [],
   "source": [
    "# equal variances equal priors\n",
    "def makePred_eq_priors_eq_Allvar(trainData,testData,est_mean,var):\n",
    "    pred_train = [None]*50000\n",
    "    pred_test = [None]*10000\n",
    "    mean0 = np.matrix(est_mean[0])\n",
    "    mean1 = np.matrix(est_mean[1])\n",
    "\n",
    "    for i in range(50000):\n",
    "        if i < 10000:\n",
    "            mat1 = np.matrix(testData[i][0])\n",
    "            res = [-np.linalg.norm(mat1-mean0), -np.linalg.norm(mat1-mean1)]\n",
    "            res = res.index(max(list(res)))\n",
    "            pred_test[i] = res\n",
    "        mat1 = np.matrix(trainData[i][0])\n",
    "        res = [-np.linalg.norm(mat1-mean0), -np.linalg.norm(mat1-mean1)]\n",
    "        res = res.index(max(list(res)))\n",
    "        pred_train[i] = res\n",
    "    return pred_train, pred_test"
   ]
  },
  {
   "cell_type": "code",
   "execution_count": 23,
   "metadata": {},
   "outputs": [
    {
     "data": {
      "text/plain": [
       "([0.6684959834566134, 0.6313269493844049],\n",
       " [0.6566558441558441, 0.6301261829652997])"
      ]
     },
     "execution_count": 23,
     "metadata": {},
     "output_type": "execute_result"
    }
   ],
   "source": [
    "pred_train1, pred_test1 = makePred_eq_priors_eq_var(train_data_eq_prior,test_data_eq_prior,est_mean_eq_prior)\n",
    "t1 = calcAccuracy(train_data_eq_prior,train_count_eq_prior,pred_train1,test_data_eq_prior,test_count_eq_prior,pred_test1)\n",
    "t1"
   ]
  },
  {
   "cell_type": "code",
   "execution_count": 13,
   "metadata": {
    "scrolled": true
   },
   "outputs": [],
   "source": [
    "pred_train1, pred_test1 = makePred_est_priors_est_var(train_data_eq_prior,test_data_eq_prior,est_mean_eq_prior,est_var_eq_prior,est_prior_eq_prior)\n",
    "t2 = calcAccuracy(train_data_eq_prior,train_count_eq_prior,pred_train1,test_data_eq_prior,test_count_eq_prior,pred_test1)"
   ]
  },
  {
   "cell_type": "code",
   "execution_count": 25,
   "metadata": {},
   "outputs": [],
   "source": [
    "pred_train1, pred_test1 = makePred_common_covar_est_prior(train_data_eq_prior,test_data_eq_prior,est_mean_eq_prior,common_covar_eq_prior,est_prior_eq_prior)\n",
    "t3 = calcAccuracy(train_data_eq_prior,train_count_eq_prior,pred_train1,test_data_eq_prior,test_count_eq_prior,pred_test1)"
   ]
  },
  {
   "cell_type": "code",
   "execution_count": 26,
   "metadata": {},
   "outputs": [],
   "source": [
    "pred_train1, pred_test1 = makePred_naive_bayes(train_data_eq_prior,test_data_eq_prior,est_mean_eq_prior,common_covar_eq_prior,est_prior_eq_prior)\n",
    "t4 = calcAccuracy(train_data_eq_prior,train_count_eq_prior,pred_train1,test_data_eq_prior,test_count_eq_prior,pred_test1)"
   ]
  },
  {
   "cell_type": "code",
   "execution_count": 27,
   "metadata": {},
   "outputs": [],
   "source": [
    "s = np.power(np.linalg.det(np.matrix(common_covar_eq_prior)),1/2)\n",
    "pred_train1, pred_test1 = makePred_est_priors_eq_Allvar(train_data_eq_prior,test_data_eq_prior,est_mean_eq_prior,s,est_prior_eq_prior)\n",
    "t5 = calcAccuracy(train_data_eq_prior,train_count_eq_prior,pred_train1,test_data_eq_prior,test_count_eq_prior,pred_test1)"
   ]
  },
  {
   "cell_type": "code",
   "execution_count": 28,
   "metadata": {},
   "outputs": [],
   "source": [
    "pred_train1, pred_test1 = makePred_eq_priors_eq_Allvar(train_data_eq_prior,test_data_eq_prior,est_mean_eq_prior,s)\n",
    "t6 = calcAccuracy(train_data_eq_prior,train_count_eq_prior,pred_train1,test_data_eq_prior,test_count_eq_prior,pred_test1)"
   ]
  },
  {
   "cell_type": "code",
   "execution_count": 39,
   "metadata": {},
   "outputs": [
    {
     "name": "stdout",
     "output_type": "stream",
     "text": [
      "0th row shows train error and 1th row shows test error.\n",
      " For each row, the errors are shown class-wise.\n",
      "\n",
      "RESULTS FOR DATA WITH EQUAL PRIORS\n"
     ]
    },
    {
     "data": {
      "text/html": [
       "<div>\n",
       "<style scoped>\n",
       "    .dataframe tbody tr th:only-of-type {\n",
       "        vertical-align: middle;\n",
       "    }\n",
       "\n",
       "    .dataframe tbody tr th {\n",
       "        vertical-align: top;\n",
       "    }\n",
       "\n",
       "    .dataframe thead th {\n",
       "        text-align: right;\n",
       "    }\n",
       "</style>\n",
       "<table border=\"1\" class=\"dataframe\">\n",
       "  <thead>\n",
       "    <tr style=\"text-align: right;\">\n",
       "      <th></th>\n",
       "      <th>eq_priors_eq_var</th>\n",
       "      <th>est_priors_est_var</th>\n",
       "      <th>common_covar_est_prior</th>\n",
       "      <th>naive_bayes</th>\n",
       "      <th>est_priors_eq_Allvar</th>\n",
       "      <th>eq_priors_eq_Allvar</th>\n",
       "    </tr>\n",
       "  </thead>\n",
       "  <tbody>\n",
       "    <tr>\n",
       "      <th>0</th>\n",
       "      <td>[0.6649557165861514, 0.6279452875399361]</td>\n",
       "      <td>[0.23389694041867956, 0.9767871405750799]</td>\n",
       "      <td>[0.17159822866344607, 0.9859474840255591]</td>\n",
       "      <td>[0.02848228663446055, 0.9996505591054313]</td>\n",
       "      <td>[0.0, 1.0]</td>\n",
       "      <td>[0.6413043478260869, 0.6540784744408946]</td>\n",
       "    </tr>\n",
       "    <tr>\n",
       "      <th>1</th>\n",
       "      <td>[0.6646433990895296, 0.6253271843450081]</td>\n",
       "      <td>[0.2402630247850278, 0.9766920104698991]</td>\n",
       "      <td>[0.17754172989377845, 0.9864140595787112]</td>\n",
       "      <td>[0.030854830551340414, 0.9996260750342765]</td>\n",
       "      <td>[0.0, 1.0]</td>\n",
       "      <td>[0.6363176530096105, 0.6527483484980681]</td>\n",
       "    </tr>\n",
       "  </tbody>\n",
       "</table>\n",
       "</div>"
      ],
      "text/plain": [
       "                           eq_priors_eq_var  \\\n",
       "0  [0.6649557165861514, 0.6279452875399361]   \n",
       "1  [0.6646433990895296, 0.6253271843450081]   \n",
       "\n",
       "                          est_priors_est_var  \\\n",
       "0  [0.23389694041867956, 0.9767871405750799]   \n",
       "1   [0.2402630247850278, 0.9766920104698991]   \n",
       "\n",
       "                      common_covar_est_prior  \\\n",
       "0  [0.17159822866344607, 0.9859474840255591]   \n",
       "1  [0.17754172989377845, 0.9864140595787112]   \n",
       "\n",
       "                                  naive_bayes est_priors_eq_Allvar  \\\n",
       "0   [0.02848228663446055, 0.9996505591054313]           [0.0, 1.0]   \n",
       "1  [0.030854830551340414, 0.9996260750342765]           [0.0, 1.0]   \n",
       "\n",
       "                        eq_priors_eq_Allvar  \n",
       "0  [0.6413043478260869, 0.6540784744408946]  \n",
       "1  [0.6363176530096105, 0.6527483484980681]  "
      ]
     },
     "execution_count": 39,
     "metadata": {},
     "output_type": "execute_result"
    }
   ],
   "source": [
    "results = pd.DataFrame({'eq_priors_eq_var':t1,\n",
    "                        'est_priors_est_var':t2,\n",
    "                        'common_covar_est_prior':t3,\n",
    "                        'naive_bayes':t4,\n",
    "                        'est_priors_eq_Allvar':t5,\n",
    "                        'eq_priors_eq_Allvar':t6})\n",
    "print(\"0th row shows train error and 1th row shows test error.\\n\",\n",
    "      \"For each row, the errors are shown class-wise.\\n\")\n",
    "print(\"RESULTS FOR DATA WITH EQUAL PRIORS\")\n",
    "results"
   ]
  },
  {
   "cell_type": "code",
   "execution_count": 37,
   "metadata": {},
   "outputs": [
    {
     "data": {
      "text/plain": [
       "([0.6649557165861514, 0.6279452875399361],\n",
       " [0.6646433990895296, 0.6253271843450081])"
      ]
     },
     "execution_count": 37,
     "metadata": {},
     "output_type": "execute_result"
    }
   ],
   "source": [
    "pred_train1, pred_test1 = makePred_eq_priors_eq_var(train_data_noneq_prior,test_data_noneq_prior,est_mean_noneq_prior)\n",
    "t1 = calcAccuracy(train_data_noneq_prior,train_count_noneq_prior,pred_train1,test_data_noneq_prior,test_count_noneq_prior,pred_test1)\n",
    "t1"
   ]
  },
  {
   "cell_type": "code",
   "execution_count": 31,
   "metadata": {},
   "outputs": [
    {
     "data": {
      "text/plain": [
       "([0.23389694041867956, 0.9767871405750799],\n",
       " [0.2402630247850278, 0.9766920104698991])"
      ]
     },
     "execution_count": 31,
     "metadata": {},
     "output_type": "execute_result"
    }
   ],
   "source": [
    "pred_train1, pred_test1 = makePred_est_priors_est_var(train_data_noneq_prior,test_data_noneq_prior,est_mean_noneq_prior,est_var_noneq_prior,est_prior_noneq_prior)\n",
    "t2 = calcAccuracy(train_data_noneq_prior,train_count_noneq_prior,pred_train1,test_data_noneq_prior,test_count_noneq_prior,pred_test1)\n",
    "t2"
   ]
  },
  {
   "cell_type": "code",
   "execution_count": 32,
   "metadata": {},
   "outputs": [
    {
     "data": {
      "text/plain": [
       "([0.17159822866344607, 0.9859474840255591],\n",
       " [0.17754172989377845, 0.9864140595787112])"
      ]
     },
     "execution_count": 32,
     "metadata": {},
     "output_type": "execute_result"
    }
   ],
   "source": [
    "pred_train1, pred_test1 = makePred_common_covar_est_prior(train_data_noneq_prior,test_data_noneq_prior,est_mean_noneq_prior,common_covar_noneq_prior,est_prior_noneq_prior)\n",
    "t3 = calcAccuracy(train_data_noneq_prior,train_count_noneq_prior,pred_train1,test_data_noneq_prior,test_count_noneq_prior,pred_test1)\n",
    "t3"
   ]
  },
  {
   "cell_type": "code",
   "execution_count": 33,
   "metadata": {},
   "outputs": [
    {
     "data": {
      "text/plain": [
       "([0.02848228663446055, 0.9996505591054313],\n",
       " [0.030854830551340414, 0.9996260750342765])"
      ]
     },
     "execution_count": 33,
     "metadata": {},
     "output_type": "execute_result"
    }
   ],
   "source": [
    "pred_train1, pred_test1 = makePred_naive_bayes(train_data_noneq_prior,test_data_noneq_prior,est_mean_noneq_prior,common_covar_noneq_prior,est_prior_noneq_prior)\n",
    "t4 = calcAccuracy(train_data_noneq_prior,train_count_noneq_prior,pred_train1,test_data_noneq_prior,test_count_noneq_prior,pred_test1)\n",
    "t4"
   ]
  },
  {
   "cell_type": "code",
   "execution_count": 34,
   "metadata": {},
   "outputs": [
    {
     "data": {
      "text/plain": [
       "([0.0, 1.0], [0.0, 1.0])"
      ]
     },
     "execution_count": 34,
     "metadata": {},
     "output_type": "execute_result"
    }
   ],
   "source": [
    "s = np.power(np.linalg.det(np.matrix(common_covar_noneq_prior)),1/2)\n",
    "pred_train1, pred_test1 = makePred_est_priors_eq_Allvar(train_data_noneq_prior,test_data_noneq_prior,est_mean_noneq_prior,s,est_prior_noneq_prior)\n",
    "t5 = calcAccuracy(train_data_noneq_prior,train_count_noneq_prior,pred_train1,test_data_noneq_prior,test_count_noneq_prior,pred_test1)\n",
    "t5"
   ]
  },
  {
   "cell_type": "code",
   "execution_count": 35,
   "metadata": {},
   "outputs": [
    {
     "data": {
      "text/plain": [
       "([0.6413043478260869, 0.6540784744408946],\n",
       " [0.6363176530096105, 0.6527483484980681])"
      ]
     },
     "execution_count": 35,
     "metadata": {},
     "output_type": "execute_result"
    }
   ],
   "source": [
    "pred_train1, pred_test1 = makePred_eq_priors_eq_Allvar(train_data_noneq_prior,test_data_noneq_prior,est_mean_noneq_prior,s)\n",
    "t6 = calcAccuracy(train_data_noneq_prior,train_count_noneq_prior,pred_train1,test_data_noneq_prior,test_count_noneq_prior,pred_test1)\n",
    "t6"
   ]
  },
  {
   "cell_type": "code",
   "execution_count": 40,
   "metadata": {},
   "outputs": [
    {
     "name": "stdout",
     "output_type": "stream",
     "text": [
      "0th row shows train error and 1th row shows test error.\n",
      " For each row, the errors are shown class-wise.\n",
      "\n",
      "RESULTS FOR DATA WITH NON-EQUAL PRIORS\n"
     ]
    },
    {
     "data": {
      "text/html": [
       "<div>\n",
       "<style scoped>\n",
       "    .dataframe tbody tr th:only-of-type {\n",
       "        vertical-align: middle;\n",
       "    }\n",
       "\n",
       "    .dataframe tbody tr th {\n",
       "        vertical-align: top;\n",
       "    }\n",
       "\n",
       "    .dataframe thead th {\n",
       "        text-align: right;\n",
       "    }\n",
       "</style>\n",
       "<table border=\"1\" class=\"dataframe\">\n",
       "  <thead>\n",
       "    <tr style=\"text-align: right;\">\n",
       "      <th></th>\n",
       "      <th>eq_priors_eq_var</th>\n",
       "      <th>est_priors_est_var</th>\n",
       "      <th>common_covar_est_prior</th>\n",
       "      <th>naive_bayes</th>\n",
       "      <th>est_priors_eq_Allvar</th>\n",
       "      <th>eq_priors_eq_Allvar</th>\n",
       "    </tr>\n",
       "  </thead>\n",
       "  <tbody>\n",
       "    <tr>\n",
       "      <th>0</th>\n",
       "      <td>[0.6649557165861514, 0.6279452875399361]</td>\n",
       "      <td>[0.23389694041867956, 0.9767871405750799]</td>\n",
       "      <td>[0.17159822866344607, 0.9859474840255591]</td>\n",
       "      <td>[0.02848228663446055, 0.9996505591054313]</td>\n",
       "      <td>[0.0, 1.0]</td>\n",
       "      <td>[0.6413043478260869, 0.6540784744408946]</td>\n",
       "    </tr>\n",
       "    <tr>\n",
       "      <th>1</th>\n",
       "      <td>[0.6646433990895296, 0.6253271843450081]</td>\n",
       "      <td>[0.2402630247850278, 0.9766920104698991]</td>\n",
       "      <td>[0.17754172989377845, 0.9864140595787112]</td>\n",
       "      <td>[0.030854830551340414, 0.9996260750342765]</td>\n",
       "      <td>[0.0, 1.0]</td>\n",
       "      <td>[0.6363176530096105, 0.6527483484980681]</td>\n",
       "    </tr>\n",
       "  </tbody>\n",
       "</table>\n",
       "</div>"
      ],
      "text/plain": [
       "                           eq_priors_eq_var  \\\n",
       "0  [0.6649557165861514, 0.6279452875399361]   \n",
       "1  [0.6646433990895296, 0.6253271843450081]   \n",
       "\n",
       "                          est_priors_est_var  \\\n",
       "0  [0.23389694041867956, 0.9767871405750799]   \n",
       "1   [0.2402630247850278, 0.9766920104698991]   \n",
       "\n",
       "                      common_covar_est_prior  \\\n",
       "0  [0.17159822866344607, 0.9859474840255591]   \n",
       "1  [0.17754172989377845, 0.9864140595787112]   \n",
       "\n",
       "                                  naive_bayes est_priors_eq_Allvar  \\\n",
       "0   [0.02848228663446055, 0.9996505591054313]           [0.0, 1.0]   \n",
       "1  [0.030854830551340414, 0.9996260750342765]           [0.0, 1.0]   \n",
       "\n",
       "                        eq_priors_eq_Allvar  \n",
       "0  [0.6413043478260869, 0.6540784744408946]  \n",
       "1  [0.6363176530096105, 0.6527483484980681]  "
      ]
     },
     "execution_count": 40,
     "metadata": {},
     "output_type": "execute_result"
    }
   ],
   "source": [
    "results1 = pd.DataFrame({'eq_priors_eq_var':t1,\n",
    "                        'est_priors_est_var':t2,\n",
    "                        'common_covar_est_prior':t3,\n",
    "                        'naive_bayes':t4,\n",
    "                        'est_priors_eq_Allvar':t5,\n",
    "                        'eq_priors_eq_Allvar':t6})\n",
    "print(\"0th row shows train error and 1th row shows test error.\\n\",\n",
    "      \"For each row, the errors are shown class-wise.\\n\")\n",
    "print(\"RESULTS FOR DATA WITH NON-EQUAL PRIORS\")\n",
    "results1"
   ]
  },
  {
   "cell_type": "markdown",
   "metadata": {},
   "source": [
    "### Note: It is just for a change that we looked at the accuracies for individual classes instead of overall accuracies."
   ]
  },
  {
   "cell_type": "code",
   "execution_count": null,
   "metadata": {},
   "outputs": [],
   "source": []
  }
 ],
 "metadata": {
  "anaconda-cloud": {},
  "kernelspec": {
   "display_name": "Python 3",
   "language": "python",
   "name": "python3"
  },
  "language_info": {
   "codemirror_mode": {
    "name": "ipython",
    "version": 3
   },
   "file_extension": ".py",
   "mimetype": "text/x-python",
   "name": "python",
   "nbconvert_exporter": "python",
   "pygments_lexer": "ipython3",
   "version": "3.6.8"
  }
 },
 "nbformat": 4,
 "nbformat_minor": 1
}
